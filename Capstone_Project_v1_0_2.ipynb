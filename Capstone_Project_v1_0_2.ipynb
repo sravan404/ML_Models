{
  "nbformat": 4,
  "nbformat_minor": 0,
  "metadata": {
    "colab": {
      "name": "Capstone_Project_v1.0.2.ipynb",
      "provenance": [],
      "collapsed_sections": [],
      "include_colab_link": true
    },
    "kernelspec": {
      "name": "python3",
      "display_name": "Python 3"
    },
    "accelerator": "TPU",
    "widgets": {
      "application/vnd.jupyter.widget-state+json": {
        "73f630e690e546d89d5c970f9275e680": {
          "model_module": "@jupyter-widgets/controls",
          "model_name": "HBoxModel",
          "state": {
            "_view_name": "HBoxView",
            "_dom_classes": [],
            "_model_name": "HBoxModel",
            "_view_module": "@jupyter-widgets/controls",
            "_model_module_version": "1.5.0",
            "_view_count": null,
            "_view_module_version": "1.5.0",
            "box_style": "",
            "layout": "IPY_MODEL_659ecabad2a6433581e7b74d9a913ec4",
            "_model_module": "@jupyter-widgets/controls",
            "children": [
              "IPY_MODEL_bcf47b1bea21417d9a9ab363633a6b7e",
              "IPY_MODEL_39aff73cd4894d39b683f64df611b402"
            ]
          }
        },
        "659ecabad2a6433581e7b74d9a913ec4": {
          "model_module": "@jupyter-widgets/base",
          "model_name": "LayoutModel",
          "state": {
            "_view_name": "LayoutView",
            "grid_template_rows": null,
            "right": null,
            "justify_content": null,
            "_view_module": "@jupyter-widgets/base",
            "overflow": null,
            "_model_module_version": "1.2.0",
            "_view_count": null,
            "flex_flow": null,
            "width": null,
            "min_width": null,
            "border": null,
            "align_items": null,
            "bottom": null,
            "_model_module": "@jupyter-widgets/base",
            "top": null,
            "grid_column": null,
            "overflow_y": null,
            "overflow_x": null,
            "grid_auto_flow": null,
            "grid_area": null,
            "grid_template_columns": null,
            "flex": null,
            "_model_name": "LayoutModel",
            "justify_items": null,
            "grid_row": null,
            "max_height": null,
            "align_content": null,
            "visibility": null,
            "align_self": null,
            "height": null,
            "min_height": null,
            "padding": null,
            "grid_auto_rows": null,
            "grid_gap": null,
            "max_width": null,
            "order": null,
            "_view_module_version": "1.2.0",
            "grid_template_areas": null,
            "object_position": null,
            "object_fit": null,
            "grid_auto_columns": null,
            "margin": null,
            "display": null,
            "left": null
          }
        },
        "bcf47b1bea21417d9a9ab363633a6b7e": {
          "model_module": "@jupyter-widgets/controls",
          "model_name": "FloatProgressModel",
          "state": {
            "_view_name": "ProgressView",
            "style": "IPY_MODEL_cb312dc275034361837fdd2984ccdcc6",
            "_dom_classes": [],
            "description": "",
            "_model_name": "FloatProgressModel",
            "bar_style": "success",
            "max": 1,
            "_view_module": "@jupyter-widgets/controls",
            "_model_module_version": "1.5.0",
            "value": 1,
            "_view_count": null,
            "_view_module_version": "1.5.0",
            "orientation": "horizontal",
            "min": 0,
            "description_tooltip": null,
            "_model_module": "@jupyter-widgets/controls",
            "layout": "IPY_MODEL_5b6f36c56cae4a298b2392988e550d04"
          }
        },
        "39aff73cd4894d39b683f64df611b402": {
          "model_module": "@jupyter-widgets/controls",
          "model_name": "HTMLModel",
          "state": {
            "_view_name": "HTMLView",
            "style": "IPY_MODEL_1850311ab57842e1ac3d4a6e28d12a3a",
            "_dom_classes": [],
            "description": "",
            "_model_name": "HTMLModel",
            "placeholder": "​",
            "_view_module": "@jupyter-widgets/controls",
            "_model_module_version": "1.5.0",
            "value": " 26684/? [2:07:04&lt;00:00,  3.50it/s]",
            "_view_count": null,
            "_view_module_version": "1.5.0",
            "description_tooltip": null,
            "_model_module": "@jupyter-widgets/controls",
            "layout": "IPY_MODEL_8147bcfa4e6040a0858b586a856577dc"
          }
        },
        "cb312dc275034361837fdd2984ccdcc6": {
          "model_module": "@jupyter-widgets/controls",
          "model_name": "ProgressStyleModel",
          "state": {
            "_view_name": "StyleView",
            "_model_name": "ProgressStyleModel",
            "description_width": "initial",
            "_view_module": "@jupyter-widgets/base",
            "_model_module_version": "1.5.0",
            "_view_count": null,
            "_view_module_version": "1.2.0",
            "bar_color": null,
            "_model_module": "@jupyter-widgets/controls"
          }
        },
        "5b6f36c56cae4a298b2392988e550d04": {
          "model_module": "@jupyter-widgets/base",
          "model_name": "LayoutModel",
          "state": {
            "_view_name": "LayoutView",
            "grid_template_rows": null,
            "right": null,
            "justify_content": null,
            "_view_module": "@jupyter-widgets/base",
            "overflow": null,
            "_model_module_version": "1.2.0",
            "_view_count": null,
            "flex_flow": null,
            "width": null,
            "min_width": null,
            "border": null,
            "align_items": null,
            "bottom": null,
            "_model_module": "@jupyter-widgets/base",
            "top": null,
            "grid_column": null,
            "overflow_y": null,
            "overflow_x": null,
            "grid_auto_flow": null,
            "grid_area": null,
            "grid_template_columns": null,
            "flex": null,
            "_model_name": "LayoutModel",
            "justify_items": null,
            "grid_row": null,
            "max_height": null,
            "align_content": null,
            "visibility": null,
            "align_self": null,
            "height": null,
            "min_height": null,
            "padding": null,
            "grid_auto_rows": null,
            "grid_gap": null,
            "max_width": null,
            "order": null,
            "_view_module_version": "1.2.0",
            "grid_template_areas": null,
            "object_position": null,
            "object_fit": null,
            "grid_auto_columns": null,
            "margin": null,
            "display": null,
            "left": null
          }
        },
        "1850311ab57842e1ac3d4a6e28d12a3a": {
          "model_module": "@jupyter-widgets/controls",
          "model_name": "DescriptionStyleModel",
          "state": {
            "_view_name": "StyleView",
            "_model_name": "DescriptionStyleModel",
            "description_width": "",
            "_view_module": "@jupyter-widgets/base",
            "_model_module_version": "1.5.0",
            "_view_count": null,
            "_view_module_version": "1.2.0",
            "_model_module": "@jupyter-widgets/controls"
          }
        },
        "8147bcfa4e6040a0858b586a856577dc": {
          "model_module": "@jupyter-widgets/base",
          "model_name": "LayoutModel",
          "state": {
            "_view_name": "LayoutView",
            "grid_template_rows": null,
            "right": null,
            "justify_content": null,
            "_view_module": "@jupyter-widgets/base",
            "overflow": null,
            "_model_module_version": "1.2.0",
            "_view_count": null,
            "flex_flow": null,
            "width": null,
            "min_width": null,
            "border": null,
            "align_items": null,
            "bottom": null,
            "_model_module": "@jupyter-widgets/base",
            "top": null,
            "grid_column": null,
            "overflow_y": null,
            "overflow_x": null,
            "grid_auto_flow": null,
            "grid_area": null,
            "grid_template_columns": null,
            "flex": null,
            "_model_name": "LayoutModel",
            "justify_items": null,
            "grid_row": null,
            "max_height": null,
            "align_content": null,
            "visibility": null,
            "align_self": null,
            "height": null,
            "min_height": null,
            "padding": null,
            "grid_auto_rows": null,
            "grid_gap": null,
            "max_width": null,
            "order": null,
            "_view_module_version": "1.2.0",
            "grid_template_areas": null,
            "object_position": null,
            "object_fit": null,
            "grid_auto_columns": null,
            "margin": null,
            "display": null,
            "left": null
          }
        }
      }
    }
  },
  "cells": [
    {
      "cell_type": "markdown",
      "metadata": {
        "id": "view-in-github",
        "colab_type": "text"
      },
      "source": [
        "<a href=\"https://colab.research.google.com/github/sravan404/ML_Models/blob/master/Capstone_Project_v1_0_2.ipynb\" target=\"_parent\"><img src=\"https://colab.research.google.com/assets/colab-badge.svg\" alt=\"Open In Colab\"/></a>"
      ]
    },
    {
      "cell_type": "markdown",
      "metadata": {
        "id": "3qW19cRJVrTe"
      },
      "source": [
        "# Importing necessary libraries"
      ]
    },
    {
      "cell_type": "code",
      "metadata": {
        "id": "oA3mHpuRueGY"
      },
      "source": [
        "!pip install -q kaggle"
      ],
      "execution_count": null,
      "outputs": []
    },
    {
      "cell_type": "code",
      "metadata": {
        "id": "tPRT63XJoD24"
      },
      "source": [
        "!pip install -q pydicom"
      ],
      "execution_count": null,
      "outputs": []
    },
    {
      "cell_type": "code",
      "metadata": {
        "id": "HIFazSQsojsu"
      },
      "source": [
        "#Supress warnings\r\n",
        "import warnings\r\n",
        "warnings.filterwarnings('ignore')\r\n",
        "#Google drive\r\n",
        "from google.colab import drive\r\n",
        "from google.colab import files\r\n",
        "#OS\r\n",
        "import os;\r\n",
        "#pandas\r\n",
        "import pandas as pd\r\n",
        "#plots\r\n",
        "import matplotlib.pyplot as plt\r\n",
        "%matplotlib inline\r\n",
        "import seaborn as sns\r\n",
        "import pydicom as dcm \r\n",
        "from glob import glob\r\n",
        "#\r\n",
        "from tqdm import tqdm_notebook"
      ],
      "execution_count": null,
      "outputs": []
    },
    {
      "cell_type": "markdown",
      "metadata": {
        "id": "h0JDYZ-nWH3k"
      },
      "source": [
        "# Folder mounting "
      ]
    },
    {
      "cell_type": "code",
      "metadata": {
        "colab": {
          "base_uri": "https://localhost:8080/"
        },
        "id": "uufnKUL9onf9",
        "outputId": "1e909f3c-2139-44aa-ce6d-71eeb51cec52"
      },
      "source": [
        "#mount the drive\r\n",
        "drive.mount(\"/content/drive\", force_remount=True)"
      ],
      "execution_count": null,
      "outputs": [
        {
          "output_type": "stream",
          "text": [
            "Mounted at /content/drive\n"
          ],
          "name": "stdout"
        }
      ]
    },
    {
      "cell_type": "code",
      "metadata": {
        "id": "dyegmJthvjhc"
      },
      "source": [
        "#Target Folders\r\n",
        "projectFolder = '/content/drive/My Drive/GL_AI_ML/Assignments/Capstone'\r\n",
        "dataSetFolder = 'dataset'\r\n",
        "train_img_folder ='stage_2_train_images'\r\n",
        "test_img_folder='stage_2_test_images'"
      ],
      "execution_count": null,
      "outputs": []
    },
    {
      "cell_type": "markdown",
      "metadata": {
        "id": "h51kw8MQyLfz"
      },
      "source": [
        "#  Download dataset from Kaggle and store in the Drive\r\n",
        "#### * Do not execute this if dataset is already downloaded"
      ]
    },
    {
      "cell_type": "code",
      "metadata": {
        "id": "gwSbfM-Eu8y4",
        "colab": {
          "base_uri": "https://localhost:8080/"
        },
        "outputId": "53fc620c-9227-4e2b-95f7-84aff9a898c6"
      },
      "source": [
        "#Change the working directory\r\n",
        "! mkdir ~/.kaggle"
      ],
      "execution_count": null,
      "outputs": [
        {
          "output_type": "stream",
          "text": [
            "mkdir: cannot create directory ‘/root/.kaggle’: File exists\n"
          ],
          "name": "stdout"
        }
      ]
    },
    {
      "cell_type": "code",
      "metadata": {
        "colab": {
          "resources": {
            "http://localhost:8080/nbextensions/google.colab/files.js": {
              "data": "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",
              "ok": true,
              "headers": [
                [
                  "content-type",
                  "application/javascript"
                ]
              ],
              "status": 200,
              "status_text": ""
            }
          },
          "base_uri": "https://localhost:8080/",
          "height": 89
        },
        "id": "6VoHkTrCrKlD",
        "outputId": "300df6af-f510-4e8c-db79-8c596251e71d"
      },
      "source": [
        "files.upload()"
      ],
      "execution_count": null,
      "outputs": [
        {
          "output_type": "display_data",
          "data": {
            "text/html": [
              "\n",
              "     <input type=\"file\" id=\"files-4dd15b87-6e01-4f66-a8e0-a41e7803fe9b\" name=\"files[]\" multiple disabled\n",
              "        style=\"border:none\" />\n",
              "     <output id=\"result-4dd15b87-6e01-4f66-a8e0-a41e7803fe9b\">\n",
              "      Upload widget is only available when the cell has been executed in the\n",
              "      current browser session. Please rerun this cell to enable.\n",
              "      </output>\n",
              "      <script src=\"/nbextensions/google.colab/files.js\"></script> "
            ],
            "text/plain": [
              "<IPython.core.display.HTML object>"
            ]
          },
          "metadata": {
            "tags": []
          }
        },
        {
          "output_type": "stream",
          "text": [
            "Saving kaggle (1).json to kaggle (1) (2).json\n"
          ],
          "name": "stdout"
        },
        {
          "output_type": "execute_result",
          "data": {
            "text/plain": [
              "{'kaggle (1).json': b'{\"username\":\"sravan404\",\"key\":\"5510ace9e718ead7d0aef61e7e0b3537\"}'}"
            ]
          },
          "metadata": {
            "tags": []
          },
          "execution_count": 62
        }
      ]
    },
    {
      "cell_type": "code",
      "metadata": {
        "id": "wXR_5Eu0rOrf"
      },
      "source": [
        "!cp kaggle.json ~/.kaggle/"
      ],
      "execution_count": null,
      "outputs": []
    },
    {
      "cell_type": "code",
      "metadata": {
        "id": "PqcSSrW1rQlm"
      },
      "source": [
        "!chmod 600 ~/.kaggle/kaggle.json"
      ],
      "execution_count": null,
      "outputs": []
    },
    {
      "cell_type": "code",
      "metadata": {
        "colab": {
          "base_uri": "https://localhost:8080/"
        },
        "id": "ET9N95DLrXiC",
        "outputId": "87591d0a-9912-4394-ce6f-29529ae462d2"
      },
      "source": [
        "!pip install --upgrade --force-reinstall --no-deps kaggle"
      ],
      "execution_count": null,
      "outputs": [
        {
          "output_type": "stream",
          "text": [
            "Processing /root/.cache/pip/wheels/3a/d1/7e/6ce09b72b770149802c653a02783821629146983ee5a360f10/kaggle-1.5.10-cp36-none-any.whl\n",
            "Installing collected packages: kaggle\n",
            "  Found existing installation: kaggle 1.5.10\n",
            "    Uninstalling kaggle-1.5.10:\n",
            "      Successfully uninstalled kaggle-1.5.10\n",
            "Successfully installed kaggle-1.5.10\n"
          ],
          "name": "stdout"
        }
      ]
    },
    {
      "cell_type": "code",
      "metadata": {
        "id": "R-PRwJKyrfVU"
      },
      "source": [
        "!kaggle competitions download -c rsna-pneumonia-detection-challenge"
      ],
      "execution_count": null,
      "outputs": []
    },
    {
      "cell_type": "code",
      "metadata": {
        "colab": {
          "base_uri": "https://localhost:8080/"
        },
        "id": "5IbKemQHtPFU",
        "outputId": "77d13299-fc1f-4115-8ca7-449d86e830c0"
      },
      "source": [
        "!ls"
      ],
      "execution_count": null,
      "outputs": [
        {
          "output_type": "stream",
          "text": [
            " drive\t'kaggle (1) (1).json'  'kaggle (1).json'   kaggle.json\t sample_data\n"
          ],
          "name": "stdout"
        }
      ]
    },
    {
      "cell_type": "code",
      "metadata": {
        "id": "WPYjcckHtQmr"
      },
      "source": [
        "os.chdir(projectFolder)\r\n",
        "!mkdir dataSetFolder"
      ],
      "execution_count": null,
      "outputs": []
    },
    {
      "cell_type": "code",
      "metadata": {
        "id": "r1P9oJX1tYKK"
      },
      "source": [
        "!unzip rsna-pneumonia-detection-challenge.zip -d dataSetFolder"
      ],
      "execution_count": null,
      "outputs": []
    },
    {
      "cell_type": "markdown",
      "metadata": {
        "id": "9sS3FvkWyXWW"
      },
      "source": [
        "###  Change the working directory"
      ]
    },
    {
      "cell_type": "code",
      "metadata": {
        "id": "Z78z24c0glS3"
      },
      "source": [
        "! mkdir projectFolder"
      ],
      "execution_count": null,
      "outputs": []
    },
    {
      "cell_type": "code",
      "metadata": {
        "id": "t-4hgvY-yWln"
      },
      "source": [
        "os.chdir(projectFolder)"
      ],
      "execution_count": null,
      "outputs": []
    },
    {
      "cell_type": "code",
      "metadata": {
        "colab": {
          "base_uri": "https://localhost:8080/"
        },
        "id": "CtSiyp-Uyewy",
        "outputId": "9ca0ad00-9abc-41df-dd4c-711a18d98876"
      },
      "source": [
        "!ls"
      ],
      "execution_count": null,
      "outputs": [
        {
          "output_type": "stream",
          "text": [
            " drive\t'kaggle (1).json'   kaggle.json   sample_data\n"
          ],
          "name": "stdout"
        }
      ]
    },
    {
      "cell_type": "markdown",
      "metadata": {
        "id": "RaFn8jU9W7vC"
      },
      "source": [
        "### Navigate to the folder which contains the dataset"
      ]
    },
    {
      "cell_type": "code",
      "metadata": {
        "id": "cAuu0yeNyAOA"
      },
      "source": [
        "print('Reading Datasets (.csv files) from /',dataSetFolder,'..'*20)\r\n",
        "train_labels = pd.read_csv(dataSetFolder+'/stage_2_train_labels.csv')\r\n",
        "class_info = pd.read_csv(dataSetFolder+'/stage_2_detailed_class_info.csv')"
      ],
      "execution_count": null,
      "outputs": []
    },
    {
      "cell_type": "markdown",
      "metadata": {
        "id": "eeGleNx1l1nY"
      },
      "source": [
        "# Combinig data\r\n"
      ]
    },
    {
      "cell_type": "code",
      "metadata": {
        "id": "Ez_HqFxrl5yd"
      },
      "source": [
        "# Merge the above data information into one dataframe\r\n",
        "merge_df = pd.merge(left = class_info, right = train_labels, how = 'left', on = 'patientId')"
      ],
      "execution_count": null,
      "outputs": []
    },
    {
      "cell_type": "code",
      "metadata": {
        "id": "bwvk0xbimfNM"
      },
      "source": [
        "merge_df.head()"
      ],
      "execution_count": null,
      "outputs": []
    },
    {
      "cell_type": "code",
      "metadata": {
        "colab": {
          "base_uri": "https://localhost:8080/",
          "height": 204
        },
        "id": "4O4UH0kgy2jV",
        "outputId": "77568d65-4056-47f6-c00d-9f309dbb3999"
      },
      "source": [
        "train_labels.head()"
      ],
      "execution_count": null,
      "outputs": [
        {
          "output_type": "execute_result",
          "data": {
            "text/html": [
              "<div>\n",
              "<style scoped>\n",
              "    .dataframe tbody tr th:only-of-type {\n",
              "        vertical-align: middle;\n",
              "    }\n",
              "\n",
              "    .dataframe tbody tr th {\n",
              "        vertical-align: top;\n",
              "    }\n",
              "\n",
              "    .dataframe thead th {\n",
              "        text-align: right;\n",
              "    }\n",
              "</style>\n",
              "<table border=\"1\" class=\"dataframe\">\n",
              "  <thead>\n",
              "    <tr style=\"text-align: right;\">\n",
              "      <th></th>\n",
              "      <th>patientId</th>\n",
              "      <th>x</th>\n",
              "      <th>y</th>\n",
              "      <th>width</th>\n",
              "      <th>height</th>\n",
              "      <th>Target</th>\n",
              "    </tr>\n",
              "  </thead>\n",
              "  <tbody>\n",
              "    <tr>\n",
              "      <th>0</th>\n",
              "      <td>0004cfab-14fd-4e49-80ba-63a80b6bddd6</td>\n",
              "      <td>NaN</td>\n",
              "      <td>NaN</td>\n",
              "      <td>NaN</td>\n",
              "      <td>NaN</td>\n",
              "      <td>0</td>\n",
              "    </tr>\n",
              "    <tr>\n",
              "      <th>1</th>\n",
              "      <td>00313ee0-9eaa-42f4-b0ab-c148ed3241cd</td>\n",
              "      <td>NaN</td>\n",
              "      <td>NaN</td>\n",
              "      <td>NaN</td>\n",
              "      <td>NaN</td>\n",
              "      <td>0</td>\n",
              "    </tr>\n",
              "    <tr>\n",
              "      <th>2</th>\n",
              "      <td>00322d4d-1c29-4943-afc9-b6754be640eb</td>\n",
              "      <td>NaN</td>\n",
              "      <td>NaN</td>\n",
              "      <td>NaN</td>\n",
              "      <td>NaN</td>\n",
              "      <td>0</td>\n",
              "    </tr>\n",
              "    <tr>\n",
              "      <th>3</th>\n",
              "      <td>003d8fa0-6bf1-40ed-b54c-ac657f8495c5</td>\n",
              "      <td>NaN</td>\n",
              "      <td>NaN</td>\n",
              "      <td>NaN</td>\n",
              "      <td>NaN</td>\n",
              "      <td>0</td>\n",
              "    </tr>\n",
              "    <tr>\n",
              "      <th>4</th>\n",
              "      <td>00436515-870c-4b36-a041-de91049b9ab4</td>\n",
              "      <td>264.0</td>\n",
              "      <td>152.0</td>\n",
              "      <td>213.0</td>\n",
              "      <td>379.0</td>\n",
              "      <td>1</td>\n",
              "    </tr>\n",
              "  </tbody>\n",
              "</table>\n",
              "</div>"
            ],
            "text/plain": [
              "                              patientId      x      y  width  height  Target\n",
              "0  0004cfab-14fd-4e49-80ba-63a80b6bddd6    NaN    NaN    NaN     NaN       0\n",
              "1  00313ee0-9eaa-42f4-b0ab-c148ed3241cd    NaN    NaN    NaN     NaN       0\n",
              "2  00322d4d-1c29-4943-afc9-b6754be640eb    NaN    NaN    NaN     NaN       0\n",
              "3  003d8fa0-6bf1-40ed-b54c-ac657f8495c5    NaN    NaN    NaN     NaN       0\n",
              "4  00436515-870c-4b36-a041-de91049b9ab4  264.0  152.0  213.0   379.0       1"
            ]
          },
          "metadata": {
            "tags": []
          },
          "execution_count": 14
        }
      ]
    },
    {
      "cell_type": "code",
      "metadata": {
        "colab": {
          "base_uri": "https://localhost:8080/"
        },
        "id": "7bfcSsyI1nUE",
        "outputId": "8c48455e-ddaf-45d4-f900-6d18219db202"
      },
      "source": [
        "print('Count of the labels :',train_labels.count()[0])"
      ],
      "execution_count": null,
      "outputs": [
        {
          "output_type": "stream",
          "text": [
            "Count of the labels : 30227\n"
          ],
          "name": "stdout"
        }
      ]
    },
    {
      "cell_type": "code",
      "metadata": {
        "colab": {
          "base_uri": "https://localhost:8080/",
          "height": 204
        },
        "id": "V29YFaA-y6m2",
        "outputId": "6693b118-c6e9-4bda-d80f-34fe8d88133e"
      },
      "source": [
        "class_info.head()"
      ],
      "execution_count": null,
      "outputs": [
        {
          "output_type": "execute_result",
          "data": {
            "text/html": [
              "<div>\n",
              "<style scoped>\n",
              "    .dataframe tbody tr th:only-of-type {\n",
              "        vertical-align: middle;\n",
              "    }\n",
              "\n",
              "    .dataframe tbody tr th {\n",
              "        vertical-align: top;\n",
              "    }\n",
              "\n",
              "    .dataframe thead th {\n",
              "        text-align: right;\n",
              "    }\n",
              "</style>\n",
              "<table border=\"1\" class=\"dataframe\">\n",
              "  <thead>\n",
              "    <tr style=\"text-align: right;\">\n",
              "      <th></th>\n",
              "      <th>patientId</th>\n",
              "      <th>class</th>\n",
              "    </tr>\n",
              "  </thead>\n",
              "  <tbody>\n",
              "    <tr>\n",
              "      <th>0</th>\n",
              "      <td>0004cfab-14fd-4e49-80ba-63a80b6bddd6</td>\n",
              "      <td>No Lung Opacity / Not Normal</td>\n",
              "    </tr>\n",
              "    <tr>\n",
              "      <th>1</th>\n",
              "      <td>00313ee0-9eaa-42f4-b0ab-c148ed3241cd</td>\n",
              "      <td>No Lung Opacity / Not Normal</td>\n",
              "    </tr>\n",
              "    <tr>\n",
              "      <th>2</th>\n",
              "      <td>00322d4d-1c29-4943-afc9-b6754be640eb</td>\n",
              "      <td>No Lung Opacity / Not Normal</td>\n",
              "    </tr>\n",
              "    <tr>\n",
              "      <th>3</th>\n",
              "      <td>003d8fa0-6bf1-40ed-b54c-ac657f8495c5</td>\n",
              "      <td>Normal</td>\n",
              "    </tr>\n",
              "    <tr>\n",
              "      <th>4</th>\n",
              "      <td>00436515-870c-4b36-a041-de91049b9ab4</td>\n",
              "      <td>Lung Opacity</td>\n",
              "    </tr>\n",
              "  </tbody>\n",
              "</table>\n",
              "</div>"
            ],
            "text/plain": [
              "                              patientId                         class\n",
              "0  0004cfab-14fd-4e49-80ba-63a80b6bddd6  No Lung Opacity / Not Normal\n",
              "1  00313ee0-9eaa-42f4-b0ab-c148ed3241cd  No Lung Opacity / Not Normal\n",
              "2  00322d4d-1c29-4943-afc9-b6754be640eb  No Lung Opacity / Not Normal\n",
              "3  003d8fa0-6bf1-40ed-b54c-ac657f8495c5                        Normal\n",
              "4  00436515-870c-4b36-a041-de91049b9ab4                  Lung Opacity"
            ]
          },
          "metadata": {
            "tags": []
          },
          "execution_count": 18
        }
      ]
    },
    {
      "cell_type": "code",
      "metadata": {
        "colab": {
          "base_uri": "https://localhost:8080/"
        },
        "id": "srgZ1Dfm1_2N",
        "outputId": "bdd99cfe-979f-4023-c217-6a27276116ec"
      },
      "source": [
        "print('Count of the class info:',class_info.count()[0])"
      ],
      "execution_count": null,
      "outputs": [
        {
          "output_type": "stream",
          "text": [
            "Count of the class info: 30227\n"
          ],
          "name": "stdout"
        }
      ]
    },
    {
      "cell_type": "markdown",
      "metadata": {
        "id": "Fe6OfxjnzcuL"
      },
      "source": [
        "### Checking NULL values"
      ]
    },
    {
      "cell_type": "code",
      "metadata": {
        "colab": {
          "base_uri": "https://localhost:8080/",
          "height": 97
        },
        "id": "soREgynazfhU",
        "outputId": "9e029e9c-2cb1-4372-f3cd-9fae385516d4"
      },
      "source": [
        "missing_df = pd.DataFrame(merge_df.isnull().sum())\r\n",
        "missing_df.columns=['Total missing values']\r\n",
        "print('Displaying the NULL counts for Labels.......')\r\n",
        "missing_df.T"
      ],
      "execution_count": null,
      "outputs": [
        {
          "output_type": "stream",
          "text": [
            "Displaying the NULL counts for Labels.......\n"
          ],
          "name": "stdout"
        },
        {
          "output_type": "execute_result",
          "data": {
            "text/html": [
              "<div>\n",
              "<style scoped>\n",
              "    .dataframe tbody tr th:only-of-type {\n",
              "        vertical-align: middle;\n",
              "    }\n",
              "\n",
              "    .dataframe tbody tr th {\n",
              "        vertical-align: top;\n",
              "    }\n",
              "\n",
              "    .dataframe thead th {\n",
              "        text-align: right;\n",
              "    }\n",
              "</style>\n",
              "<table border=\"1\" class=\"dataframe\">\n",
              "  <thead>\n",
              "    <tr style=\"text-align: right;\">\n",
              "      <th></th>\n",
              "      <th>patientId</th>\n",
              "      <th>x</th>\n",
              "      <th>y</th>\n",
              "      <th>width</th>\n",
              "      <th>height</th>\n",
              "      <th>Target</th>\n",
              "    </tr>\n",
              "  </thead>\n",
              "  <tbody>\n",
              "    <tr>\n",
              "      <th>Total missing values</th>\n",
              "      <td>0</td>\n",
              "      <td>20672</td>\n",
              "      <td>20672</td>\n",
              "      <td>20672</td>\n",
              "      <td>20672</td>\n",
              "      <td>0</td>\n",
              "    </tr>\n",
              "  </tbody>\n",
              "</table>\n",
              "</div>"
            ],
            "text/plain": [
              "                      patientId      x      y  width  height  Target\n",
              "Total missing values          0  20672  20672  20672   20672       0"
            ]
          },
          "metadata": {
            "tags": []
          },
          "execution_count": 24
        }
      ]
    },
    {
      "cell_type": "markdown",
      "metadata": {
        "id": "DHfbZaiwX_57"
      },
      "source": [
        "#### Observation:\r\n",
        "* Missing values in x and y indicates absence of Pneumonia and target label is 0 for those records"
      ]
    },
    {
      "cell_type": "code",
      "metadata": {
        "colab": {
          "base_uri": "https://localhost:8080/",
          "height": 97
        },
        "id": "ixotDxR91PEm",
        "outputId": "ea9bf50d-4097-4c3c-f4de-3dd3fdf31881"
      },
      "source": [
        "print('Displaying the NULL counts for Class.......')\r\n",
        "missing_df1 = pd.DataFrame(class_info.isnull().sum())\r\n",
        "missing_df1.columns=['Total missing values']\r\n",
        "missing_df1.T"
      ],
      "execution_count": null,
      "outputs": [
        {
          "output_type": "stream",
          "text": [
            "Displaying the NULL counts for Class.......\n"
          ],
          "name": "stdout"
        },
        {
          "output_type": "execute_result",
          "data": {
            "text/html": [
              "<div>\n",
              "<style scoped>\n",
              "    .dataframe tbody tr th:only-of-type {\n",
              "        vertical-align: middle;\n",
              "    }\n",
              "\n",
              "    .dataframe tbody tr th {\n",
              "        vertical-align: top;\n",
              "    }\n",
              "\n",
              "    .dataframe thead th {\n",
              "        text-align: right;\n",
              "    }\n",
              "</style>\n",
              "<table border=\"1\" class=\"dataframe\">\n",
              "  <thead>\n",
              "    <tr style=\"text-align: right;\">\n",
              "      <th></th>\n",
              "      <th>patientId</th>\n",
              "      <th>class</th>\n",
              "    </tr>\n",
              "  </thead>\n",
              "  <tbody>\n",
              "    <tr>\n",
              "      <th>Total missing values</th>\n",
              "      <td>0</td>\n",
              "      <td>0</td>\n",
              "    </tr>\n",
              "  </tbody>\n",
              "</table>\n",
              "</div>"
            ],
            "text/plain": [
              "                      patientId  class\n",
              "Total missing values          0      0"
            ]
          },
          "metadata": {
            "tags": []
          },
          "execution_count": 25
        }
      ]
    },
    {
      "cell_type": "markdown",
      "metadata": {
        "id": "G-RmtLXsY2XR"
      },
      "source": [
        "#### Observation:\r\n",
        "* No Missing values"
      ]
    },
    {
      "cell_type": "markdown",
      "metadata": {
        "id": "G04FKtyM2Yhe"
      },
      "source": [
        "### Visualization of different classes"
      ]
    },
    {
      "cell_type": "code",
      "metadata": {
        "colab": {
          "base_uri": "https://localhost:8080/",
          "height": 280
        },
        "id": "7BAQHDRV2riz",
        "outputId": "55ee22e8-5f2f-47ad-95b0-6dee003ffa3f"
      },
      "source": [
        "fig = plt.figure(figsize = (10, 5))\r\n",
        "fig_plot = fig.add_subplot(121)\r\n",
        "fig_graph = (merge_df['Target'].value_counts()\r\n",
        "    .plot(kind = 'pie', autopct = '%.0f%%', \r\n",
        "          labels = ['Pneumonia\\nNegative (0)', 'Pneumonia\\nPositive (1)'], \r\n",
        "          colors = ['lightgreen', 'red'], \r\n",
        "          startangle = 180, \r\n",
        "          title = 'Target Distribution', fontsize = 13)\r\n",
        "    .set_ylabel(''))\r\n",
        "\r\n",
        "fig_plot = fig.add_subplot(122)\r\n",
        "fig_graph = (merge_df['class'].value_counts().sort_index(ascending = False)\r\n",
        "    .plot(kind = 'pie', autopct = '%.0f%%', \r\n",
        "          colors = ['lightgreen', 'lightblue', 'aqua'], \r\n",
        "          startangle = 180, title = 'Class distribution', \r\n",
        "          fontsize = 13)\r\n",
        "    .set_ylabel(''))\r\n",
        "plt.tight_layout()"
      ],
      "execution_count": null,
      "outputs": [
        {
          "output_type": "display_data",
          "data": {
            "image/png": "[encoded data removed]",
            "text/plain": [
              "<Figure size 720x360 with 2 Axes>"
            ]
          },
          "metadata": {
            "tags": []
          }
        }
      ]
    },
    {
      "cell_type": "code",
      "metadata": {
        "id": "svM5wyDy7Z4Z",
        "colab": {
          "base_uri": "https://localhost:8080/"
        },
        "outputId": "1f36980f-006d-4529-ad72-9f51651f2fba"
      },
      "source": [
        "# Get the repeated patient id's\r\n",
        "repeated_patient_ids = merge_df.groupby('patientId').size()\r\n",
        "repeated_patient_ids"
      ],
      "execution_count": null,
      "outputs": [
        {
          "output_type": "execute_result",
          "data": {
            "text/plain": [
              "patientId\n",
              "0004cfab-14fd-4e49-80ba-63a80b6bddd6    1\n",
              "000924cf-0f8d-42bd-9158-1af53881a557    1\n",
              "000db696-cf54-4385-b10b-6b16fbb3f985    2\n",
              "000fe35a-2649-43d4-b027-e67796d412e0    2\n",
              "001031d9-f904-4a23-b3e5-2c088acd19c6    2\n",
              "                                       ..\n",
              "fffb2395-8edd-4954-8a89-ffe2fd329be3    2\n",
              "fffba05a-1635-4545-9bbd-57ad4cfe8d27    1\n",
              "fffc95b5-605b-4226-80ab-62caec682b22    1\n",
              "fffcff11-d018-4414-971a-a7cefa327795    1\n",
              "fffec09e-8a4a-48b1-b33e-ab4890ccd136    1\n",
              "Length: 26684, dtype: int64"
            ]
          },
          "metadata": {
            "tags": []
          },
          "execution_count": 31
        }
      ]
    },
    {
      "cell_type": "code",
      "metadata": {
        "colab": {
          "base_uri": "https://localhost:8080/"
        },
        "id": "Qy3rGkHYiTGE",
        "outputId": "dfcee2d4-06cb-4dcb-9e19-6829a2e4017b"
      },
      "source": [
        "print('Number of Unique patient IDs in the dataset: {}'.format(len(repeated_patient_ids)))"
      ],
      "execution_count": null,
      "outputs": [
        {
          "output_type": "stream",
          "text": [
            "Number of Unique patient IDs in the dataset: 26684\n"
          ],
          "name": "stdout"
        }
      ]
    },
    {
      "cell_type": "markdown",
      "metadata": {
        "id": "t6PigTXbianN"
      },
      "source": [
        "#### Check for the boundary boxes"
      ]
    },
    {
      "cell_type": "code",
      "metadata": {
        "id": "21FZQQQv7brf",
        "colab": {
          "base_uri": "https://localhost:8080/",
          "height": 419
        },
        "outputId": "8db297e2-c03d-4bc1-8240-b61fb0467c72"
      },
      "source": [
        "bounding_boxes= repeated_patient_ids.to_frame('number_of_boxes').reset_index()\r\n",
        "bounding_boxes"
      ],
      "execution_count": null,
      "outputs": [
        {
          "output_type": "execute_result",
          "data": {
            "text/html": [
              "<div>\n",
              "<style scoped>\n",
              "    .dataframe tbody tr th:only-of-type {\n",
              "        vertical-align: middle;\n",
              "    }\n",
              "\n",
              "    .dataframe tbody tr th {\n",
              "        vertical-align: top;\n",
              "    }\n",
              "\n",
              "    .dataframe thead th {\n",
              "        text-align: right;\n",
              "    }\n",
              "</style>\n",
              "<table border=\"1\" class=\"dataframe\">\n",
              "  <thead>\n",
              "    <tr style=\"text-align: right;\">\n",
              "      <th></th>\n",
              "      <th>patientId</th>\n",
              "      <th>number_of_boxes</th>\n",
              "    </tr>\n",
              "  </thead>\n",
              "  <tbody>\n",
              "    <tr>\n",
              "      <th>0</th>\n",
              "      <td>0004cfab-14fd-4e49-80ba-63a80b6bddd6</td>\n",
              "      <td>1</td>\n",
              "    </tr>\n",
              "    <tr>\n",
              "      <th>1</th>\n",
              "      <td>000924cf-0f8d-42bd-9158-1af53881a557</td>\n",
              "      <td>1</td>\n",
              "    </tr>\n",
              "    <tr>\n",
              "      <th>2</th>\n",
              "      <td>000db696-cf54-4385-b10b-6b16fbb3f985</td>\n",
              "      <td>2</td>\n",
              "    </tr>\n",
              "    <tr>\n",
              "      <th>3</th>\n",
              "      <td>000fe35a-2649-43d4-b027-e67796d412e0</td>\n",
              "      <td>2</td>\n",
              "    </tr>\n",
              "    <tr>\n",
              "      <th>4</th>\n",
              "      <td>001031d9-f904-4a23-b3e5-2c088acd19c6</td>\n",
              "      <td>2</td>\n",
              "    </tr>\n",
              "    <tr>\n",
              "      <th>...</th>\n",
              "      <td>...</td>\n",
              "      <td>...</td>\n",
              "    </tr>\n",
              "    <tr>\n",
              "      <th>26679</th>\n",
              "      <td>fffb2395-8edd-4954-8a89-ffe2fd329be3</td>\n",
              "      <td>2</td>\n",
              "    </tr>\n",
              "    <tr>\n",
              "      <th>26680</th>\n",
              "      <td>fffba05a-1635-4545-9bbd-57ad4cfe8d27</td>\n",
              "      <td>1</td>\n",
              "    </tr>\n",
              "    <tr>\n",
              "      <th>26681</th>\n",
              "      <td>fffc95b5-605b-4226-80ab-62caec682b22</td>\n",
              "      <td>1</td>\n",
              "    </tr>\n",
              "    <tr>\n",
              "      <th>26682</th>\n",
              "      <td>fffcff11-d018-4414-971a-a7cefa327795</td>\n",
              "      <td>1</td>\n",
              "    </tr>\n",
              "    <tr>\n",
              "      <th>26683</th>\n",
              "      <td>fffec09e-8a4a-48b1-b33e-ab4890ccd136</td>\n",
              "      <td>1</td>\n",
              "    </tr>\n",
              "  </tbody>\n",
              "</table>\n",
              "<p>26684 rows × 2 columns</p>\n",
              "</div>"
            ],
            "text/plain": [
              "                                  patientId  number_of_boxes\n",
              "0      0004cfab-14fd-4e49-80ba-63a80b6bddd6                1\n",
              "1      000924cf-0f8d-42bd-9158-1af53881a557                1\n",
              "2      000db696-cf54-4385-b10b-6b16fbb3f985                2\n",
              "3      000fe35a-2649-43d4-b027-e67796d412e0                2\n",
              "4      001031d9-f904-4a23-b3e5-2c088acd19c6                2\n",
              "...                                     ...              ...\n",
              "26679  fffb2395-8edd-4954-8a89-ffe2fd329be3                2\n",
              "26680  fffba05a-1635-4545-9bbd-57ad4cfe8d27                1\n",
              "26681  fffc95b5-605b-4226-80ab-62caec682b22                1\n",
              "26682  fffcff11-d018-4414-971a-a7cefa327795                1\n",
              "26683  fffec09e-8a4a-48b1-b33e-ab4890ccd136                1\n",
              "\n",
              "[26684 rows x 2 columns]"
            ]
          },
          "metadata": {
            "tags": []
          },
          "execution_count": 32
        }
      ]
    },
    {
      "cell_type": "code",
      "metadata": {
        "colab": {
          "base_uri": "https://localhost:8080/",
          "height": 204
        },
        "id": "iwUS3iuUkBdm",
        "outputId": "28036125-2b49-4c33-d021-ee8398c252a5"
      },
      "source": [
        "box_df = pd.DataFrame(bounding_boxes.groupby('number_of_boxes').size(),columns=['Total Patients'])\r\n",
        "box_df.index.names = ['Bounding Boxes']\r\n",
        "box_df"
      ],
      "execution_count": null,
      "outputs": [
        {
          "output_type": "execute_result",
          "data": {
            "text/html": [
              "<div>\n",
              "<style scoped>\n",
              "    .dataframe tbody tr th:only-of-type {\n",
              "        vertical-align: middle;\n",
              "    }\n",
              "\n",
              "    .dataframe tbody tr th {\n",
              "        vertical-align: top;\n",
              "    }\n",
              "\n",
              "    .dataframe thead th {\n",
              "        text-align: right;\n",
              "    }\n",
              "</style>\n",
              "<table border=\"1\" class=\"dataframe\">\n",
              "  <thead>\n",
              "    <tr style=\"text-align: right;\">\n",
              "      <th></th>\n",
              "      <th>Total Patients</th>\n",
              "    </tr>\n",
              "    <tr>\n",
              "      <th>Bounding Boxes</th>\n",
              "      <th></th>\n",
              "    </tr>\n",
              "  </thead>\n",
              "  <tbody>\n",
              "    <tr>\n",
              "      <th>1</th>\n",
              "      <td>23286</td>\n",
              "    </tr>\n",
              "    <tr>\n",
              "      <th>2</th>\n",
              "      <td>3266</td>\n",
              "    </tr>\n",
              "    <tr>\n",
              "      <th>3</th>\n",
              "      <td>119</td>\n",
              "    </tr>\n",
              "    <tr>\n",
              "      <th>4</th>\n",
              "      <td>13</td>\n",
              "    </tr>\n",
              "  </tbody>\n",
              "</table>\n",
              "</div>"
            ],
            "text/plain": [
              "                Total Patients\n",
              "Bounding Boxes                \n",
              "1                        23286\n",
              "2                         3266\n",
              "3                          119\n",
              "4                           13"
            ]
          },
          "metadata": {
            "tags": []
          },
          "execution_count": 63
        }
      ]
    },
    {
      "cell_type": "code",
      "metadata": {
        "id": "JvzSYij1gKsy"
      },
      "source": [
        "train_labels_boxes = trainmerge_df_labels.copy(deep=True)\r\n",
        "train_labels_boxes = train_labels_boxes.merge(bounding_boxes, on = 'patientId', how = 'left')"
      ],
      "execution_count": null,
      "outputs": []
    },
    {
      "cell_type": "code",
      "metadata": {
        "colab": {
          "base_uri": "https://localhost:8080/",
          "height": 419
        },
        "id": "IBPU79obgdc2",
        "outputId": "12755138-d2bb-4430-a739-487b073f092f"
      },
      "source": [
        "train_labels_boxes"
      ],
      "execution_count": null,
      "outputs": [
        {
          "output_type": "execute_result",
          "data": {
            "text/html": [
              "<div>\n",
              "<style scoped>\n",
              "    .dataframe tbody tr th:only-of-type {\n",
              "        vertical-align: middle;\n",
              "    }\n",
              "\n",
              "    .dataframe tbody tr th {\n",
              "        vertical-align: top;\n",
              "    }\n",
              "\n",
              "    .dataframe thead th {\n",
              "        text-align: right;\n",
              "    }\n",
              "</style>\n",
              "<table border=\"1\" class=\"dataframe\">\n",
              "  <thead>\n",
              "    <tr style=\"text-align: right;\">\n",
              "      <th></th>\n",
              "      <th>patientId</th>\n",
              "      <th>x</th>\n",
              "      <th>y</th>\n",
              "      <th>width</th>\n",
              "      <th>height</th>\n",
              "      <th>Target</th>\n",
              "      <th>number_of_boxes</th>\n",
              "    </tr>\n",
              "  </thead>\n",
              "  <tbody>\n",
              "    <tr>\n",
              "      <th>0</th>\n",
              "      <td>0004cfab-14fd-4e49-80ba-63a80b6bddd6</td>\n",
              "      <td>NaN</td>\n",
              "      <td>NaN</td>\n",
              "      <td>NaN</td>\n",
              "      <td>NaN</td>\n",
              "      <td>0</td>\n",
              "      <td>1</td>\n",
              "    </tr>\n",
              "    <tr>\n",
              "      <th>1</th>\n",
              "      <td>00313ee0-9eaa-42f4-b0ab-c148ed3241cd</td>\n",
              "      <td>NaN</td>\n",
              "      <td>NaN</td>\n",
              "      <td>NaN</td>\n",
              "      <td>NaN</td>\n",
              "      <td>0</td>\n",
              "      <td>1</td>\n",
              "    </tr>\n",
              "    <tr>\n",
              "      <th>2</th>\n",
              "      <td>00322d4d-1c29-4943-afc9-b6754be640eb</td>\n",
              "      <td>NaN</td>\n",
              "      <td>NaN</td>\n",
              "      <td>NaN</td>\n",
              "      <td>NaN</td>\n",
              "      <td>0</td>\n",
              "      <td>1</td>\n",
              "    </tr>\n",
              "    <tr>\n",
              "      <th>3</th>\n",
              "      <td>003d8fa0-6bf1-40ed-b54c-ac657f8495c5</td>\n",
              "      <td>NaN</td>\n",
              "      <td>NaN</td>\n",
              "      <td>NaN</td>\n",
              "      <td>NaN</td>\n",
              "      <td>0</td>\n",
              "      <td>1</td>\n",
              "    </tr>\n",
              "    <tr>\n",
              "      <th>4</th>\n",
              "      <td>00436515-870c-4b36-a041-de91049b9ab4</td>\n",
              "      <td>264.0</td>\n",
              "      <td>152.0</td>\n",
              "      <td>213.0</td>\n",
              "      <td>379.0</td>\n",
              "      <td>1</td>\n",
              "      <td>2</td>\n",
              "    </tr>\n",
              "    <tr>\n",
              "      <th>...</th>\n",
              "      <td>...</td>\n",
              "      <td>...</td>\n",
              "      <td>...</td>\n",
              "      <td>...</td>\n",
              "      <td>...</td>\n",
              "      <td>...</td>\n",
              "      <td>...</td>\n",
              "    </tr>\n",
              "    <tr>\n",
              "      <th>30222</th>\n",
              "      <td>c1ec14ff-f6d7-4b38-b0cb-fe07041cbdc8</td>\n",
              "      <td>185.0</td>\n",
              "      <td>298.0</td>\n",
              "      <td>228.0</td>\n",
              "      <td>379.0</td>\n",
              "      <td>1</td>\n",
              "      <td>2</td>\n",
              "    </tr>\n",
              "    <tr>\n",
              "      <th>30223</th>\n",
              "      <td>c1edf42b-5958-47ff-a1e7-4f23d99583ba</td>\n",
              "      <td>NaN</td>\n",
              "      <td>NaN</td>\n",
              "      <td>NaN</td>\n",
              "      <td>NaN</td>\n",
              "      <td>0</td>\n",
              "      <td>1</td>\n",
              "    </tr>\n",
              "    <tr>\n",
              "      <th>30224</th>\n",
              "      <td>c1f6b555-2eb1-4231-98f6-50a963976431</td>\n",
              "      <td>NaN</td>\n",
              "      <td>NaN</td>\n",
              "      <td>NaN</td>\n",
              "      <td>NaN</td>\n",
              "      <td>0</td>\n",
              "      <td>1</td>\n",
              "    </tr>\n",
              "    <tr>\n",
              "      <th>30225</th>\n",
              "      <td>c1f7889a-9ea9-4acb-b64c-b737c929599a</td>\n",
              "      <td>570.0</td>\n",
              "      <td>393.0</td>\n",
              "      <td>261.0</td>\n",
              "      <td>345.0</td>\n",
              "      <td>1</td>\n",
              "      <td>2</td>\n",
              "    </tr>\n",
              "    <tr>\n",
              "      <th>30226</th>\n",
              "      <td>c1f7889a-9ea9-4acb-b64c-b737c929599a</td>\n",
              "      <td>233.0</td>\n",
              "      <td>424.0</td>\n",
              "      <td>201.0</td>\n",
              "      <td>356.0</td>\n",
              "      <td>1</td>\n",
              "      <td>2</td>\n",
              "    </tr>\n",
              "  </tbody>\n",
              "</table>\n",
              "<p>30227 rows × 7 columns</p>\n",
              "</div>"
            ],
            "text/plain": [
              "                                  patientId      x  ...  Target  number_of_boxes\n",
              "0      0004cfab-14fd-4e49-80ba-63a80b6bddd6    NaN  ...       0                1\n",
              "1      00313ee0-9eaa-42f4-b0ab-c148ed3241cd    NaN  ...       0                1\n",
              "2      00322d4d-1c29-4943-afc9-b6754be640eb    NaN  ...       0                1\n",
              "3      003d8fa0-6bf1-40ed-b54c-ac657f8495c5    NaN  ...       0                1\n",
              "4      00436515-870c-4b36-a041-de91049b9ab4  264.0  ...       1                2\n",
              "...                                     ...    ...  ...     ...              ...\n",
              "30222  c1ec14ff-f6d7-4b38-b0cb-fe07041cbdc8  185.0  ...       1                2\n",
              "30223  c1edf42b-5958-47ff-a1e7-4f23d99583ba    NaN  ...       0                1\n",
              "30224  c1f6b555-2eb1-4231-98f6-50a963976431    NaN  ...       0                1\n",
              "30225  c1f7889a-9ea9-4acb-b64c-b737c929599a  570.0  ...       1                2\n",
              "30226  c1f7889a-9ea9-4acb-b64c-b737c929599a  233.0  ...       1                2\n",
              "\n",
              "[30227 rows x 7 columns]"
            ]
          },
          "metadata": {
            "tags": []
          },
          "execution_count": 34
        }
      ]
    },
    {
      "cell_type": "code",
      "metadata": {
        "colab": {
          "base_uri": "https://localhost:8080/"
        },
        "id": "_ZALClyWha8M",
        "outputId": "edcd9fc2-4e47-4209-b7f2-aca4db0ecacb"
      },
      "source": [
        "print('Shape of the dataset after the merging : {}'.format(train_labels_boxes_class.shape))"
      ],
      "execution_count": null,
      "outputs": [
        {
          "output_type": "stream",
          "text": [
            "Shape of the dataset after the merging : (30227, 8)\n"
          ],
          "name": "stdout"
        }
      ]
    },
    {
      "cell_type": "markdown",
      "metadata": {
        "id": "oHW8hdnLo7cy"
      },
      "source": [
        "### Read DICOM Images"
      ]
    },
    {
      "cell_type": "markdown",
      "metadata": {
        "id": "FoqWboOnoWKH"
      },
      "source": [
        "# DICOM META DATA"
      ]
    },
    {
      "cell_type": "code",
      "metadata": {
        "id": "LmwuMdT5oZBZ"
      },
      "source": [
        "#df_meta = df.drop('class', axis = 1).copy()\r\n",
        "df_meta = merge_df.copy()\r\n",
        "dcm_columns = None\r\n",
        "\r\n",
        "for n, pid in enumerate(df_meta['patientId'].unique()):\r\n",
        "    if (n+1)%1000==0:\r\n",
        "        print(n,len(df_meta['patientId'].unique()))\r\n",
        "    dcm_file = TRAIN_PATH+'%s.dcm' % pid\r\n",
        "    dcm_data = pydicom.read_file(dcm_file)\r\n",
        "    \r\n",
        "    if not dcm_columns:\r\n",
        "        dcm_columns = dcm_data.dir()\r\n",
        "        dcm_columns.remove('PixelSpacing')\r\n",
        "        dcm_columns.remove('PixelData')\r\n",
        "        dcm_columns.remove('PatientName')\r\n",
        "    for col in dcm_columns:\r\n",
        "      if not (col in df_meta.columns):\r\n",
        "         df_meta[col] = np.nan\r\n",
        "      idx = df_meta[df_meta['patientId'] == pid].index\r\n",
        "      temp_data = dcm_data.data_element(col).value\r\n",
        "      df_meta.loc[idx, col] = temp_data\r\n",
        "    \r\n",
        "    del dcm_data\r\n",
        "    del temp_data\r\n",
        "    \r\n",
        "gc.collect()"
      ],
      "execution_count": null,
      "outputs": []
    },
    {
      "cell_type": "code",
      "metadata": {
        "id": "G4TrhZWtosDQ"
      },
      "source": [
        "df_meta.head()"
      ],
      "execution_count": null,
      "outputs": []
    },
    {
      "cell_type": "code",
      "metadata": {
        "id": "6MIUX-zwo2J8"
      },
      "source": [
        "df_meta.to_csv('/content/drive/MyDrive/Colab Notebooks/Data/Pneumonia_matadata.csv')"
      ],
      "execution_count": null,
      "outputs": []
    },
    {
      "cell_type": "code",
      "metadata": {
        "id": "_h7BX-Dgo3KQ"
      },
      "source": [
        "df_meta = pd.read_csv('/content/drive/MyDrive/Colab Notebooks/Data/Pneumonia_matadata.csv')"
      ],
      "execution_count": null,
      "outputs": []
    },
    {
      "cell_type": "code",
      "metadata": {
        "id": "-d7KGI15o-jL"
      },
      "source": [
        "df_meta.columns"
      ],
      "execution_count": null,
      "outputs": []
    },
    {
      "cell_type": "code",
      "metadata": {
        "id": "Dhvg9W-ppBga"
      },
      "source": [
        "df_meta['PatientAge'] = df_meta['PatientAge'].astype(int)\r\n",
        "df_meta['PatientSex'].astype('category')\r\n",
        "df_meta['ViewPosition'].astype('category')\r\n",
        "df_meta['PatientSex'] = np.where(df_meta[\"PatientSex\"].str.contains(\"M\"), 1, 0)\r\n",
        "df_meta['ViewPosition'] = np.where(df_meta[\"ViewPosition\"].str.contains(\"AP\"), 1, 0)"
      ],
      "execution_count": null,
      "outputs": []
    },
    {
      "cell_type": "code",
      "metadata": {
        "id": "nbX53vgbpCRd"
      },
      "source": [
        "\r\n",
        "df_meta['SeriesDescription'] = df_meta['SeriesDescription'].map({'view: AP': 'AP', 'view: PA': 'PA'})\r\n",
        "\r\n",
        "df_meta.drop('SeriesDescription', axis = 1, inplace = True)\r\n"
      ],
      "execution_count": null,
      "outputs": []
    },
    {
      "cell_type": "code",
      "metadata": {
        "id": "ILv14aVEpEYj"
      },
      "source": [
        "df_meta.head(1)"
      ],
      "execution_count": null,
      "outputs": []
    },
    {
      "cell_type": "code",
      "metadata": {
        "id": "8YmpRFUKpKYa"
      },
      "source": [
        "df_meta.info()"
      ],
      "execution_count": null,
      "outputs": []
    },
    {
      "cell_type": "code",
      "metadata": {
        "id": "8vbRM576pLLI"
      },
      "source": [
        "df_meta_preProcess = df_meta"
      ],
      "execution_count": null,
      "outputs": []
    },
    {
      "cell_type": "code",
      "metadata": {
        "id": "aKfhKNoqpPmv"
      },
      "source": [
        "df_meta_preProcess = df_meta.drop(['patientId','StudyInstanceUID','SOPInstanceUID','SOPClassUID','PatientID','BodyPartExamined','LossyImageCompressionMethod','SpecificCharacterSet','SeriesInstanceUID'],axis=1)"
      ],
      "execution_count": null,
      "outputs": []
    },
    {
      "cell_type": "code",
      "metadata": {
        "id": "iKDf-olxpTms"
      },
      "source": [
        "df_meta_preProcess.info()"
      ],
      "execution_count": null,
      "outputs": []
    },
    {
      "cell_type": "code",
      "metadata": {
        "id": "FpwGMpZKpXEu"
      },
      "source": [
        "df_meta_preProcess[['ConversionType','Modality','PhotometricInterpretation']].nunique()"
      ],
      "execution_count": null,
      "outputs": []
    },
    {
      "cell_type": "code",
      "metadata": {
        "id": "q9qx2ArLpZlW"
      },
      "source": [
        "# seems like ConversionType ,   Modality  , PhotometricInterpretation   have single value to dropping these  too and few fileds are null so removing them too\r\n",
        "df_meta_preProcess = df_meta.drop(['patientId','StudyInstanceUID','SOPInstanceUID','SOPClassUID','PatientID','BodyPartExamined','LossyImageCompressionMethod','SpecificCharacterSet','SeriesInstanceUID','ConversionType','Modality','PhotometricInterpretation','StudyID','ReferringPhysicianName','PatientOrientation','PatientBirthDate','AccessionNumber'],axis=1)"
      ],
      "execution_count": null,
      "outputs": []
    },
    {
      "cell_type": "code",
      "metadata": {
        "id": "GjxfJycHpbhk"
      },
      "source": [
        "df_meta_preProcess.info()"
      ],
      "execution_count": null,
      "outputs": []
    },
    {
      "cell_type": "code",
      "metadata": {
        "id": "CHLzku1ipiSX"
      },
      "source": [
        "plt.figure(figsize = (25, 5))\r\n",
        "sns.countplot(x = 'PatientAge', hue = 'Target', data = df_meta_preProcess)\r\n",
        "plt.show()"
      ],
      "execution_count": null,
      "outputs": []
    },
    {
      "cell_type": "code",
      "metadata": {
        "id": "FpassAXaplmZ"
      },
      "source": [
        "sns.countplot(x = 'PatientSex', hue = 'Target', data = df_meta_preProcess)"
      ],
      "execution_count": null,
      "outputs": []
    },
    {
      "cell_type": "code",
      "metadata": {
        "id": "WMfP8_enpoJn"
      },
      "source": [
        "sns.countplot(x = 'ViewPosition', hue = 'Target', data = df_meta_preProcess)"
      ],
      "execution_count": null,
      "outputs": []
    },
    {
      "cell_type": "code",
      "metadata": {
        "id": "mvADtTCXpqkl"
      },
      "source": [
        "df_meta_preProcess[['Target','x','y','width','height','PatientAge','PatientSex']].corr()"
      ],
      "execution_count": null,
      "outputs": []
    },
    {
      "cell_type": "code",
      "metadata": {
        "id": "9QGLWasIps-_"
      },
      "source": [
        "from lightgbm import LGBMClassifier\r\n",
        "from sklearn.metrics import roc_auc_score\r\n",
        "from sklearn.model_selection import KFold\r\n",
        "\r\n",
        "import warnings\r\n",
        "warnings.simplefilter(\"ignore\")"
      ],
      "execution_count": null,
      "outputs": []
    },
    {
      "cell_type": "code",
      "metadata": {
        "id": "cKoH1NcPpuLk"
      },
      "source": [
        "def fast_lgbm_cv_scores(df, target, task, rs = 0):\r\n",
        "    \r\n",
        "    clf = LGBMClassifier(n_estimators = 10000, nthread = 4, random_state = rs)\r\n",
        "    metric = 'auc'\r\n",
        "\r\n",
        "    # Cross validation model\r\n",
        "    folds = KFold(n_splits = 10, shuffle = True, random_state = rs)\r\n",
        "        \r\n",
        "    # Create arrays and dataframes to store results\r\n",
        "    pred = np.zeros(df.shape[0])\r\n",
        "    \r\n",
        "    feats = df.columns.drop(target)\r\n",
        "    \r\n",
        "    feature_importance_df = pd.DataFrame(index = feats)\r\n",
        "    \r\n",
        "    for n_fold, (train_idx, valid_idx) in enumerate(folds.split(df[feats], df[target])):\r\n",
        "        train_x, train_y = df[feats].iloc[train_idx], df[target].iloc[train_idx]\r\n",
        "        valid_x, valid_y = df[feats].iloc[valid_idx], df[target].iloc[valid_idx]\r\n",
        "\r\n",
        "        clf.fit(train_x, train_y, \r\n",
        "                eval_set = [(valid_x, valid_y)], eval_metric = metric, \r\n",
        "                verbose = -1, early_stopping_rounds = 100)\r\n",
        "\r\n",
        "        pred[valid_idx] = clf.predict_proba(valid_x, num_iteration = clf.best_iteration_)[:, 1]\r\n",
        "        \r\n",
        "        feature_importance_df[n_fold] = pd.Series(clf.feature_importances_, index = feats)\r\n",
        "        \r\n",
        "        del train_x, train_y, valid_x, valid_y\r\n",
        "        gc.collect()\r\n",
        "\r\n",
        "    return feature_importance_df, pred, roc_auc_score(df[target], pred)"
      ],
      "execution_count": null,
      "outputs": []
    },
    {
      "cell_type": "code",
      "metadata": {
        "id": "bcE-Tzzapz1b"
      },
      "source": [
        "df_meta_preProcess.columns"
      ],
      "execution_count": null,
      "outputs": []
    },
    {
      "cell_type": "code",
      "metadata": {
        "id": "3ffF8pkgp5Ji"
      },
      "source": [
        "f_imp, _, score = fast_lgbm_cv_scores(df_meta_preProcess,target = 'Target', task = 'classification')\r\n",
        "print('ROC-AUC for Target = {}'.format(score))"
      ],
      "execution_count": null,
      "outputs": []
    },
    {
      "cell_type": "code",
      "metadata": {
        "id": "uJs5QDfip8Ok"
      },
      "source": [
        "f_imp"
      ],
      "execution_count": null,
      "outputs": []
    },
    {
      "cell_type": "code",
      "metadata": {
        "id": "64BD34wkp-ml"
      },
      "source": [
        "f_imp, _, score = fast_lgbm_cv_scores(df_meta[['Target','PatientAge','PatientSex','ViewPosition']],target = 'Target', task = 'classification')\r\n",
        "print('ROC-AUC for Target = {}'.format(score))"
      ],
      "execution_count": null,
      "outputs": []
    },
    {
      "cell_type": "code",
      "metadata": {
        "id": "PyWG9-lXp_c5"
      },
      "source": [
        "f_imp"
      ],
      "execution_count": null,
      "outputs": []
    },
    {
      "cell_type": "markdown",
      "metadata": {
        "id": "B0dBpDfvqGHa"
      },
      "source": [
        "Pre processing\r\n"
      ]
    },
    {
      "cell_type": "code",
      "metadata": {
        "id": "EU-YxuFMqFYK"
      },
      "source": [
        "import os\r\n",
        "import csv\r\n",
        "import random\r\n",
        "import pydicom\r\n",
        "import numpy as np\r\n",
        "import pandas as pd\r\n",
        "from skimage import measure\r\n",
        "from skimage.transform import resize\r\n",
        "import matplotlib.patches as patches\r\n",
        "import keras\r\n",
        "import tensorflow as tf\r\n",
        "from keras.models import Model\r\n",
        "from keras.layers import Input, BatchNormalization, Activation, Dense, Dropout\r\n",
        "from keras.layers.convolutional import Conv2D, Conv2DTranspose\r\n",
        "from keras.layers.pooling import MaxPooling2D, GlobalMaxPool2D\r\n",
        "from keras.layers.merge import concatenate, add\r\n",
        "from keras.callbacks import EarlyStopping, ModelCheckpoint\r\n",
        "from keras.optimizers import Adam\r\n",
        "import cv2\r\n",
        "from skimage.transform import resize"
      ],
      "execution_count": 70,
      "outputs": []
    },
    {
      "cell_type": "code",
      "metadata": {
        "id": "I56xsuHJqMdV"
      },
      "source": [
        "pneumonia_locations = {}\r\n",
        "# load table\r\n",
        "with open(os.path.join('/content/pneumonia/stage_2_train_labels.csv'),\r\n",
        "          'r') as infile:\r\n",
        "    # open reader\r\n",
        "    reader = csv.reader(infile)\r\n",
        "    # skip header\r\n",
        "    next(reader, None)\r\n",
        "    # loop through rows\r\n",
        "    for rows in reader:\r\n",
        "        # retrieve information\r\n",
        "        filename = rows[0]\r\n",
        "        location = rows[1:5]\r\n",
        "        pneumonia = rows[5]\r\n",
        "        # if row contains pneumonia add label to dictionary\r\n",
        "        # which contains a list of pneumonia locations per filename\r\n",
        "        if pneumonia == '1':\r\n",
        "            # convert string to float to int\r\n",
        "            location = [int(float(i)) for i in location]\r\n",
        "            # save pneumonia location in dictionary\r\n",
        "            if filename in pneumonia_locations:\r\n",
        "                pneumonia_locations[filename].append(location)\r\n",
        "            else:\r\n",
        "                pneumonia_locations[filename] = [location]"
      ],
      "execution_count": null,
      "outputs": []
    },
    {
      "cell_type": "code",
      "metadata": {
        "id": "K2Q05t8TqNxA"
      },
      "source": [
        "len(pneumonia_locations)"
      ],
      "execution_count": null,
      "outputs": []
    },
    {
      "cell_type": "code",
      "metadata": {
        "id": "Kb-HxCJDqQT3"
      },
      "source": [
        "# load and shuffle filenames\r\n",
        "folder = '/content/pneumonia/stage_2_train_images'\r\n",
        "filenames = os.listdir(folder)\r\n",
        "random.shuffle(filenames)\r\n",
        "# split into train and validation filenames\r\n",
        "n_valid_samples = 8000\r\n",
        "train_filenames = filenames[n_valid_samples:]\r\n",
        "valid_filenames = filenames[:n_valid_samples]\r\n",
        "print('n train samples', len(train_filenames))\r\n",
        "print('n valid samples', len(valid_filenames))\r\n",
        "n_train_samples = len(filenames) - n_valid_samples"
      ],
      "execution_count": null,
      "outputs": []
    },
    {
      "cell_type": "code",
      "metadata": {
        "id": "EubJ2hGDqTdr"
      },
      "source": [
        "class generator(keras.utils.Sequence):    \r\n",
        "    def __init__(self, folder, filenames, pneumonia_locations=None, batch_size=32, image_size=256, shuffle=True, augment=False, predict=False):\r\n",
        "        self.folder = folder\r\n",
        "        self.filenames = filenames\r\n",
        "        self.pneumonia_locations = pneumonia_locations\r\n",
        "        self.batch_size = batch_size\r\n",
        "        self.image_size = image_size\r\n",
        "        self.shuffle = shuffle\r\n",
        "        self.augment = augment\r\n",
        "        self.predict = predict\r\n",
        "        self.on_epoch_end()\r\n",
        "        \r\n",
        "    def __load__(self, filename):\r\n",
        "        # load dicom file as numpy array\r\n",
        "        img = pydicom.dcmread(os.path.join(self.folder, filename)).pixel_array\r\n",
        "        # create empty mask\r\n",
        "        msk = np.zeros(img.shape)\r\n",
        "        # get filename without extension\r\n",
        "        filename = filename.split('.')[0]\r\n",
        "        # if image contains pneumonia\r\n",
        "        if filename in self.pneumonia_locations:\r\n",
        "            # loop through pneumonia\r\n",
        "            for location in self.pneumonia_locations[filename]:\r\n",
        "                # add 1's at the location of the pneumonia\r\n",
        "                x, y, w, h = location\r\n",
        "                msk[y:y+h, x:x+w] = 1\r\n",
        "        # resize both image and mask\r\n",
        "        img = resize(img, (self.image_size, self.image_size), mode='reflect')\r\n",
        "        msk = resize(msk, (self.image_size, self.image_size), mode='reflect') \r\n",
        "        # if augment then horizontal flip half the time\r\n",
        "        if self.augment and random.random() > 0.5:\r\n",
        "            img = np.fliplr(img)\r\n",
        "            msk = np.fliplr(msk)\r\n",
        "        # add trailing channel dimension\r\n",
        "        img = np.expand_dims(img, -1)\r\n",
        "        msk = np.expand_dims(msk, -1)\r\n",
        "        return img, msk\r\n",
        "    \r\n",
        "    def __loadpredict__(self, filename):\r\n",
        "        # load dicom file as numpy array\r\n",
        "        img = pydicom.dcmread(os.path.join(self.folder, filename)).pixel_array\r\n",
        "        # resize image\r\n",
        "        img = resize(img, (self.image_size, self.image_size), mode='reflect')\r\n",
        "        # add trailing channel dimension\r\n",
        "        img = np.expand_dims(img, -1)\r\n",
        "        return img\r\n",
        "        \r\n",
        "    def __getitem__(self, index):\r\n",
        "        # select batch\r\n",
        "        filenames = self.filenames[index*self.batch_size:(index+1)*self.batch_size]\r\n",
        "        # predict mode: return images and filenames\r\n",
        "        if self.predict:\r\n",
        "            # load files\r\n",
        "            imgs = [self.__loadpredict__(filename) for filename in filenames]\r\n",
        "            # create numpy batch\r\n",
        "            imgs = np.array(imgs)\r\n",
        "            return imgs, filenames\r\n",
        "        # train mode: return images and masks\r\n",
        "        else:\r\n",
        "            # load files\r\n",
        "            items = [self.__load__(filename) for filename in filenames]\r\n",
        "            # unzip images and masks\r\n",
        "            imgs, msks = zip(*items)\r\n",
        "            # create numpy batch\r\n",
        "            imgs = np.array(imgs)\r\n",
        "            msks = np.array(msks)\r\n",
        "            return imgs, msks\r\n",
        "        \r\n",
        "    def on_epoch_end(self):\r\n",
        "        if self.shuffle:\r\n",
        "            random.shuffle(self.filenames)\r\n",
        "        \r\n",
        "    def __len__(self):\r\n",
        "        if self.predict:\r\n",
        "            # return everything\r\n",
        "            return int(np.ceil(len(self.filenames) / self.batch_size))\r\n",
        "        else:\r\n",
        "            # return full batches only\r\n",
        "            return int(len(self.filenames) / self.batch_size)"
      ],
      "execution_count": null,
      "outputs": []
    },
    {
      "cell_type": "code",
      "metadata": {
        "id": "6tu4eMf1qV7f"
      },
      "source": [
        "def conv2d_block(input_tensor, n_filters, kernel_size=3, batchnorm=True):\r\n",
        "    # first layer\r\n",
        "    x = Conv2D(filters=n_filters, kernel_size=(kernel_size, kernel_size), kernel_initializer=\"he_normal\",\r\n",
        "               padding=\"same\")(input_tensor)\r\n",
        "    if batchnorm:\r\n",
        "        x = BatchNormalization()(x)\r\n",
        "    x = Activation(\"relu\")(x)\r\n",
        "    # second layer\r\n",
        "    x = Conv2D(filters=n_filters, kernel_size=(kernel_size, kernel_size), kernel_initializer=\"he_normal\",\r\n",
        "               padding=\"same\")(x)\r\n",
        "    if batchnorm:\r\n",
        "        x = BatchNormalization()(x)\r\n",
        "    x = Activation(\"relu\")(x)\r\n",
        "    return x"
      ],
      "execution_count": null,
      "outputs": []
    },
    {
      "cell_type": "code",
      "metadata": {
        "id": "bIadbLQyqWjE"
      },
      "source": [
        "def get_unet(input_img, n_filters=16, dropout=0.5, batchnorm=True):\r\n",
        "    # contracting path\r\n",
        "    c1 = conv2d_block(input_img, n_filters=n_filters*1, kernel_size=3, batchnorm=batchnorm)\r\n",
        "    p1 = MaxPooling2D((2, 2)) (c1)\r\n",
        "    p1 = Dropout(dropout*0.5)(p1)\r\n",
        "\r\n",
        "    c2 = conv2d_block(p1, n_filters=n_filters*2, kernel_size=3, batchnorm=batchnorm)\r\n",
        "    p2 = MaxPooling2D((2, 2)) (c2)\r\n",
        "    p2 = Dropout(dropout)(p2)\r\n",
        "\r\n",
        "    c3 = conv2d_block(p2, n_filters=n_filters*4, kernel_size=3, batchnorm=batchnorm)\r\n",
        "    p3 = MaxPooling2D((2, 2)) (c3)\r\n",
        "    p3 = Dropout(dropout)(p3)\r\n",
        "\r\n",
        "    c4 = conv2d_block(p3, n_filters=n_filters*8, kernel_size=3, batchnorm=batchnorm)\r\n",
        "    p4 = MaxPooling2D(pool_size=(2, 2)) (c4)\r\n",
        "    p4 = Dropout(dropout)(p4)\r\n",
        "    \r\n",
        "    c5 = conv2d_block(p4, n_filters=n_filters*16, kernel_size=3, batchnorm=batchnorm)\r\n",
        "    \r\n",
        "    # expansive path\r\n",
        "    u6 = Conv2DTranspose(n_filters*8, (3, 3), strides=(2, 2), padding='same') (c5)\r\n",
        "    u6 = concatenate([u6, c4])\r\n",
        "    u6 = Dropout(dropout)(u6)\r\n",
        "    c6 = conv2d_block(u6, n_filters=n_filters*8, kernel_size=3, batchnorm=batchnorm)\r\n",
        "\r\n",
        "    u7 = Conv2DTranspose(n_filters*4, (3, 3), strides=(2, 2), padding='same') (c6)\r\n",
        "    u7 = concatenate([u7, c3])\r\n",
        "    u7 = Dropout(dropout)(u7)\r\n",
        "    c7 = conv2d_block(u7, n_filters=n_filters*4, kernel_size=3, batchnorm=batchnorm)\r\n",
        "\r\n",
        "    u8 = Conv2DTranspose(n_filters*2, (3, 3), strides=(2, 2), padding='same') (c7)\r\n",
        "    u8 = concatenate([u8, c2])\r\n",
        "    u8 = Dropout(dropout)(u8)\r\n",
        "    c8 = conv2d_block(u8, n_filters=n_filters*2, kernel_size=3, batchnorm=batchnorm)\r\n",
        "\r\n",
        "    u9 = Conv2DTranspose(n_filters*1, (3, 3), strides=(2, 2), padding='same') (c8)\r\n",
        "    u9 = concatenate([u9, c1], axis=3)\r\n",
        "    u9 = Dropout(dropout)(u9)\r\n",
        "    c9 = conv2d_block(u9, n_filters=n_filters*1, kernel_size=3, batchnorm=batchnorm)\r\n",
        "    \r\n",
        "    outputs = Conv2D(1, (1, 1), activation='sigmoid') (c9)\r\n",
        "    model = Model(inputs=[input_img], outputs=[outputs])\r\n",
        "    return model"
      ],
      "execution_count": null,
      "outputs": []
    },
    {
      "cell_type": "code",
      "metadata": {
        "id": "OrSh4v8zqaCh"
      },
      "source": [
        "input_img = Input((224, 224, 1), name='img')\r\n",
        "model = get_unet(input_img, n_filters=16, dropout=0.05, batchnorm=True)\r\n",
        "model.summary()"
      ],
      "execution_count": null,
      "outputs": []
    },
    {
      "cell_type": "code",
      "metadata": {
        "id": "T8TzaO2Bqcml"
      },
      "source": [
        "def iou_loss(y_true, y_pred):\r\n",
        "    y_true = tf.reshape(y_true, [-1])\r\n",
        "    y_pred = tf.reshape(y_pred, [-1])\r\n",
        "    intersection = tf.reduce_sum(y_true * y_pred)\r\n",
        "    score = (intersection + 1.) / (tf.reduce_sum(y_true) + tf.reduce_sum(y_pred) - intersection + 1.)\r\n",
        "    return 1 - score\r\n",
        "\r\n",
        "# def bce_loss(y_true,y_pred):\r\n",
        "#   return keras.losses.binary_crossentropy(y_true,y_pred)\r\n",
        "\r\n",
        "# mean iou as a metric\r\n",
        "def mean_iou(y_true, y_pred):\r\n",
        "    y_pred = tf.round(y_pred)\r\n",
        "    intersect = tf.reduce_sum(y_true * y_pred)\r\n",
        "    union = tf.reduce_sum(y_true) + tf.reduce_sum(y_pred)\r\n",
        "    smooth = tf.ones(tf.shape(intersect))\r\n",
        "    return tf.reduce_mean((intersect + smooth) / (union - intersect + smooth))"
      ],
      "execution_count": null,
      "outputs": []
    },
    {
      "cell_type": "code",
      "metadata": {
        "id": "h3U5AqiEqfRI"
      },
      "source": [
        "model.compile(optimizer='adam',\r\n",
        "                     loss=iou_loss,\r\n",
        "                     metrics=[mean_iou,'accuracy'])\r\n",
        "\r\n",
        "checkpoint = keras.callbacks.ModelCheckpoint(\"pnuemonia-detection-unet_{val_loss:.4f}.h5\",monitor='val_loss',\r\n",
        "                             verbose=1, save_best_only=False,save_weights_only=True, mode=\"auto\")\r\n",
        "\r\n",
        "es = keras.callbacks.EarlyStopping(monitor='val_loss', patience=4)"
      ],
      "execution_count": null,
      "outputs": []
    },
    {
      "cell_type": "code",
      "metadata": {
        "id": "cfpdb8Ngqg9W"
      },
      "source": [
        "# create train and validation generators\r\n",
        "folder = '/content/pneumonia/stage_2_train_images'\r\n",
        "train_gen = generator(folder, train_filenames, pneumonia_locations, batch_size=64, \r\n",
        "                      image_size=224, shuffle=True, augment=False, predict=False)\r\n",
        "valid_gen = generator(folder, valid_filenames, pneumonia_locations, batch_size=64, \r\n",
        "                      image_size=224, shuffle=False, predict=False)"
      ],
      "execution_count": null,
      "outputs": []
    },
    {
      "cell_type": "markdown",
      "metadata": {
        "id": "UXyOyRViopOC"
      },
      "source": [
        "# Karthik Code"
      ]
    },
    {
      "cell_type": "code",
      "metadata": {
        "colab": {
          "base_uri": "https://localhost:8080/"
        },
        "id": "pnR75VVfqn2Y",
        "outputId": "be730453-23dd-4c03-bf0e-70b760e347fc"
      },
      "source": [
        "!ls"
      ],
      "execution_count": null,
      "outputs": [
        {
          "output_type": "stream",
          "text": [
            "dataset  rsna-pneumonia-detection-challenge.zip\n"
          ],
          "name": "stdout"
        }
      ]
    },
    {
      "cell_type": "code",
      "metadata": {
        "colab": {
          "base_uri": "https://localhost:8080/"
        },
        "id": "jptsTx2uo6zk",
        "outputId": "5f126a85-6830-4215-be9e-88d82e301394"
      },
      "source": [
        "pid= merge_df['patientId'][0]\r\n",
        "dcm_file = dataSetFolder+'/'+train_img_folder+'/' + '{}.dcm'.format(pid)\r\n",
        "dcm_data = dcm.read_file(dcm_file)\r\n",
        "\r\n",
        "print(dcm_data)"
      ],
      "execution_count": null,
      "outputs": [
        {
          "output_type": "stream",
          "text": [
            "Dataset.file_meta -------------------------------\n",
            "(0002, 0000) File Meta Information Group Length  UL: 202\n",
            "(0002, 0001) File Meta Information Version       OB: b'\\x00\\x01'\n",
            "(0002, 0002) Media Storage SOP Class UID         UI: Secondary Capture Image Storage\n",
            "(0002, 0003) Media Storage SOP Instance UID      UI: 1.2.276.0.7230010.3.1.4.8323329.28530.1517874485.775526\n",
            "(0002, 0010) Transfer Syntax UID                 UI: JPEG Baseline (Process 1)\n",
            "(0002, 0012) Implementation Class UID            UI: 1.2.276.0.7230010.3.0.3.6.0\n",
            "(0002, 0013) Implementation Version Name         SH: 'OFFIS_DCMTK_360'\n",
            "-------------------------------------------------\n",
            "(0008, 0005) Specific Character Set              CS: 'ISO_IR 100'\n",
            "(0008, 0016) SOP Class UID                       UI: Secondary Capture Image Storage\n",
            "(0008, 0018) SOP Instance UID                    UI: 1.2.276.0.7230010.3.1.4.8323329.28530.1517874485.775526\n",
            "(0008, 0020) Study Date                          DA: '19010101'\n",
            "(0008, 0030) Study Time                          TM: '000000.00'\n",
            "(0008, 0050) Accession Number                    SH: ''\n",
            "(0008, 0060) Modality                            CS: 'CR'\n",
            "(0008, 0064) Conversion Type                     CS: 'WSD'\n",
            "(0008, 0090) Referring Physician's Name          PN: ''\n",
            "(0008, 103e) Series Description                  LO: 'view: PA'\n",
            "(0010, 0010) Patient's Name                      PN: '0004cfab-14fd-4e49-80ba-63a80b6bddd6'\n",
            "(0010, 0020) Patient ID                          LO: '0004cfab-14fd-4e49-80ba-63a80b6bddd6'\n",
            "(0010, 0030) Patient's Birth Date                DA: ''\n",
            "(0010, 0040) Patient's Sex                       CS: 'F'\n",
            "(0010, 1010) Patient's Age                       AS: '51'\n",
            "(0018, 0015) Body Part Examined                  CS: 'CHEST'\n",
            "(0018, 5101) View Position                       CS: 'PA'\n",
            "(0020, 000d) Study Instance UID                  UI: 1.2.276.0.7230010.3.1.2.8323329.28530.1517874485.775525\n",
            "(0020, 000e) Series Instance UID                 UI: 1.2.276.0.7230010.3.1.3.8323329.28530.1517874485.775524\n",
            "(0020, 0010) Study ID                            SH: ''\n",
            "(0020, 0011) Series Number                       IS: \"1\"\n",
            "(0020, 0013) Instance Number                     IS: \"1\"\n",
            "(0020, 0020) Patient Orientation                 CS: ''\n",
            "(0028, 0002) Samples per Pixel                   US: 1\n",
            "(0028, 0004) Photometric Interpretation          CS: 'MONOCHROME2'\n",
            "(0028, 0010) Rows                                US: 1024\n",
            "(0028, 0011) Columns                             US: 1024\n",
            "(0028, 0030) Pixel Spacing                       DS: [0.14300000000000002, 0.14300000000000002]\n",
            "(0028, 0100) Bits Allocated                      US: 8\n",
            "(0028, 0101) Bits Stored                         US: 8\n",
            "(0028, 0102) High Bit                            US: 7\n",
            "(0028, 0103) Pixel Representation                US: 0\n",
            "(0028, 2110) Lossy Image Compression             CS: '01'\n",
            "(0028, 2114) Lossy Image Compression Method      CS: 'ISO_10918_1'\n",
            "(7fe0, 0010) Pixel Data                          OB: Array of 142006 elements\n"
          ],
          "name": "stdout"
        }
      ]
    },
    {
      "cell_type": "code",
      "metadata": {
        "colab": {
          "base_uri": "https://localhost:8080/"
        },
        "id": "bknHygt38Gr-",
        "outputId": "f6712846-151e-4bea-e23d-971cc1cb20d4"
      },
      "source": [
        "#print('--',os.path)\r\n",
        "print('Read the training images file names and path')\r\n",
        "print('+'*40)\r\n",
        "images_df = pd.DataFrame({'path': glob(os.path.join(projectFolder+\"/\"+dataSetFolder+\"/\"+train_img_folder, '*.dcm'))})\r\n",
        "images_df['patientId'] = images['path'].map(lambda x: os.path.splitext(os.path.basename(x))[0])\r\n",
        "print('Number of training images: {}'.format(images_df.shape[0]))\r\n",
        "print('Training images columns: {}'.format(list(images_df.columns)))\r\n",
        "print('+'*40)"
      ],
      "execution_count": null,
      "outputs": [
        {
          "output_type": "stream",
          "text": [
            "Read the training images file names and path\n",
            "++++++++++++++++++++++++++++++++++++++++\n",
            "Number of training images: 26684\n",
            "Training images columns: ['path', 'patientId']\n",
            "++++++++++++++++++++++++++++++++++++++++\n"
          ],
          "name": "stdout"
        }
      ]
    },
    {
      "cell_type": "code",
      "metadata": {
        "colab": {
          "base_uri": "https://localhost:8080/",
          "height": 359
        },
        "id": "7dXG78Hp6U0p",
        "outputId": "9dfbd08e-89be-46fa-b4bc-66c9fd4ab91e"
      },
      "source": [
        "images_df.head(10)"
      ],
      "execution_count": null,
      "outputs": [
        {
          "output_type": "execute_result",
          "data": {
            "text/html": [
              "<div>\n",
              "<style scoped>\n",
              "    .dataframe tbody tr th:only-of-type {\n",
              "        vertical-align: middle;\n",
              "    }\n",
              "\n",
              "    .dataframe tbody tr th {\n",
              "        vertical-align: top;\n",
              "    }\n",
              "\n",
              "    .dataframe thead th {\n",
              "        text-align: right;\n",
              "    }\n",
              "</style>\n",
              "<table border=\"1\" class=\"dataframe\">\n",
              "  <thead>\n",
              "    <tr style=\"text-align: right;\">\n",
              "      <th></th>\n",
              "      <th>path</th>\n",
              "      <th>patientId</th>\n",
              "    </tr>\n",
              "  </thead>\n",
              "  <tbody>\n",
              "    <tr>\n",
              "      <th>0</th>\n",
              "      <td>/content/drive/My Drive/GL_AI_ML/Assignments/C...</td>\n",
              "      <td>f7314793-6863-4d4c-b090-a29308443ba7</td>\n",
              "    </tr>\n",
              "    <tr>\n",
              "      <th>1</th>\n",
              "      <td>/content/drive/My Drive/GL_AI_ML/Assignments/C...</td>\n",
              "      <td>f696261f-49c1-4274-81be-4e6b9e8c5602</td>\n",
              "    </tr>\n",
              "    <tr>\n",
              "      <th>2</th>\n",
              "      <td>/content/drive/My Drive/GL_AI_ML/Assignments/C...</td>\n",
              "      <td>f7c0d1b0-ddab-4199-bd80-7f6963a3fa3c</td>\n",
              "    </tr>\n",
              "    <tr>\n",
              "      <th>3</th>\n",
              "      <td>/content/drive/My Drive/GL_AI_ML/Assignments/C...</td>\n",
              "      <td>f69af194-65fb-412b-8004-9b6a643b1c39</td>\n",
              "    </tr>\n",
              "    <tr>\n",
              "      <th>4</th>\n",
              "      <td>/content/drive/My Drive/GL_AI_ML/Assignments/C...</td>\n",
              "      <td>f7a1de8c-7802-4af3-98c4-4dfb088b986d</td>\n",
              "    </tr>\n",
              "    <tr>\n",
              "      <th>5</th>\n",
              "      <td>/content/drive/My Drive/GL_AI_ML/Assignments/C...</td>\n",
              "      <td>f7793f41-fe23-4e09-8bef-6394b56bed37</td>\n",
              "    </tr>\n",
              "    <tr>\n",
              "      <th>6</th>\n",
              "      <td>/content/drive/My Drive/GL_AI_ML/Assignments/C...</td>\n",
              "      <td>f6d5b202-5ff1-428a-8d3e-5b64d67fc095</td>\n",
              "    </tr>\n",
              "    <tr>\n",
              "      <th>7</th>\n",
              "      <td>/content/drive/My Drive/GL_AI_ML/Assignments/C...</td>\n",
              "      <td>f6c8b5ed-851e-44ae-90d3-b39cbd112305</td>\n",
              "    </tr>\n",
              "    <tr>\n",
              "      <th>8</th>\n",
              "      <td>/content/drive/My Drive/GL_AI_ML/Assignments/C...</td>\n",
              "      <td>f77b0afe-0085-4ee0-afad-a1e9fda8fe65</td>\n",
              "    </tr>\n",
              "    <tr>\n",
              "      <th>9</th>\n",
              "      <td>/content/drive/My Drive/GL_AI_ML/Assignments/C...</td>\n",
              "      <td>f750621a-0f9d-4dea-941d-a2c52a8aba72</td>\n",
              "    </tr>\n",
              "  </tbody>\n",
              "</table>\n",
              "</div>"
            ],
            "text/plain": [
              "                                                path                             patientId\n",
              "0  /content/drive/My Drive/GL_AI_ML/Assignments/C...  f7314793-6863-4d4c-b090-a29308443ba7\n",
              "1  /content/drive/My Drive/GL_AI_ML/Assignments/C...  f696261f-49c1-4274-81be-4e6b9e8c5602\n",
              "2  /content/drive/My Drive/GL_AI_ML/Assignments/C...  f7c0d1b0-ddab-4199-bd80-7f6963a3fa3c\n",
              "3  /content/drive/My Drive/GL_AI_ML/Assignments/C...  f69af194-65fb-412b-8004-9b6a643b1c39\n",
              "4  /content/drive/My Drive/GL_AI_ML/Assignments/C...  f7a1de8c-7802-4af3-98c4-4dfb088b986d\n",
              "5  /content/drive/My Drive/GL_AI_ML/Assignments/C...  f7793f41-fe23-4e09-8bef-6394b56bed37\n",
              "6  /content/drive/My Drive/GL_AI_ML/Assignments/C...  f6d5b202-5ff1-428a-8d3e-5b64d67fc095\n",
              "7  /content/drive/My Drive/GL_AI_ML/Assignments/C...  f6c8b5ed-851e-44ae-90d3-b39cbd112305\n",
              "8  /content/drive/My Drive/GL_AI_ML/Assignments/C...  f77b0afe-0085-4ee0-afad-a1e9fda8fe65\n",
              "9  /content/drive/My Drive/GL_AI_ML/Assignments/C...  f750621a-0f9d-4dea-941d-a2c52a8aba72"
            ]
          },
          "metadata": {
            "tags": []
          },
          "execution_count": 121
        }
      ]
    },
    {
      "cell_type": "code",
      "metadata": {
        "id": "CfRk0hW2MK66"
      },
      "source": [
        "#Function to get the features from the DICOM images\r\n",
        "def get_image_features(data, path):\r\n",
        "    images = os.listdir(path)\r\n",
        "    for _, name in tqdm_notebook(enumerate(images)):\r\n",
        "        img_path = os.path.join(path, name)\r\n",
        "        img_data = dcm.read_file(img_path)\r\n",
        "        idx = (data['patientId'] == img_data.PatientID)\r\n",
        "        data.loc[idx,'PatientSex'] = img_data.PatientSex\r\n",
        "        data.loc[idx,'PatientAge'] = pd.to_numeric(img_data.PatientAge)\r\n",
        "        data.loc[idx,'BodyPartExamined'] = img_data.BodyPartExamined\r\n",
        "        data.loc[idx,'ViewPosition'] = img_data.ViewPosition\r\n",
        "        data.loc[idx,'Modality'] = img_data.Modality"
      ],
      "execution_count": null,
      "outputs": []
    },
    {
      "cell_type": "code",
      "metadata": {
        "colab": {
          "base_uri": "https://localhost:8080/",
          "height": 66,
          "referenced_widgets": [
            "73f630e690e546d89d5c970f9275e680",
            "659ecabad2a6433581e7b74d9a913ec4",
            "bcf47b1bea21417d9a9ab363633a6b7e",
            "39aff73cd4894d39b683f64df611b402",
            "cb312dc275034361837fdd2984ccdcc6",
            "5b6f36c56cae4a298b2392988e550d04",
            "1850311ab57842e1ac3d4a6e28d12a3a",
            "8147bcfa4e6040a0858b586a856577dc"
          ]
        },
        "id": "07fne_xqId6j",
        "outputId": "74954f83-ae22-44de-bd8f-4c40c4fb0d37"
      },
      "source": [
        "get_image_features(train_labels_boxes_class,projectFolder+\"/\"+dataSetFolder+\"/\"+train_img_folder)"
      ],
      "execution_count": null,
      "outputs": [
        {
          "output_type": "display_data",
          "data": {
            "application/vnd.jupyter.widget-view+json": {
              "model_id": "73f630e690e546d89d5c970f9275e680",
              "version_minor": 0,
              "version_major": 2
            },
            "text/plain": [
              "HBox(children=(FloatProgress(value=1.0, bar_style='info', max=1.0), HTML(value='')))"
            ]
          },
          "metadata": {
            "tags": []
          }
        },
        {
          "output_type": "stream",
          "text": [
            "\n"
          ],
          "name": "stdout"
        }
      ]
    },
    {
      "cell_type": "code",
      "metadata": {
        "colab": {
          "base_uri": "https://localhost:8080/",
          "height": 204
        },
        "id": "06laRE11dgy4",
        "outputId": "00ee4a2c-5324-45c0-8a22-a3825a4f353d"
      },
      "source": [
        "train_labels_boxes_class.head()"
      ],
      "execution_count": null,
      "outputs": [
        {
          "output_type": "execute_result",
          "data": {
            "text/html": [
              "<div>\n",
              "<style scoped>\n",
              "    .dataframe tbody tr th:only-of-type {\n",
              "        vertical-align: middle;\n",
              "    }\n",
              "\n",
              "    .dataframe tbody tr th {\n",
              "        vertical-align: top;\n",
              "    }\n",
              "\n",
              "    .dataframe thead th {\n",
              "        text-align: right;\n",
              "    }\n",
              "</style>\n",
              "<table border=\"1\" class=\"dataframe\">\n",
              "  <thead>\n",
              "    <tr style=\"text-align: right;\">\n",
              "      <th></th>\n",
              "      <th>patientId</th>\n",
              "      <th>x</th>\n",
              "      <th>y</th>\n",
              "      <th>width</th>\n",
              "      <th>height</th>\n",
              "      <th>Target</th>\n",
              "      <th>number_of_boxes</th>\n",
              "      <th>class</th>\n",
              "      <th>PatientSex</th>\n",
              "      <th>PatientAge</th>\n",
              "      <th>BodyPartExamined</th>\n",
              "      <th>ViewPosition</th>\n",
              "      <th>Modality</th>\n",
              "    </tr>\n",
              "  </thead>\n",
              "  <tbody>\n",
              "    <tr>\n",
              "      <th>0</th>\n",
              "      <td>0004cfab-14fd-4e49-80ba-63a80b6bddd6</td>\n",
              "      <td>NaN</td>\n",
              "      <td>NaN</td>\n",
              "      <td>NaN</td>\n",
              "      <td>NaN</td>\n",
              "      <td>0</td>\n",
              "      <td>1</td>\n",
              "      <td>No Lung Opacity / Not Normal</td>\n",
              "      <td>F</td>\n",
              "      <td>51.0</td>\n",
              "      <td>CHEST</td>\n",
              "      <td>PA</td>\n",
              "      <td>CR</td>\n",
              "    </tr>\n",
              "    <tr>\n",
              "      <th>1</th>\n",
              "      <td>00313ee0-9eaa-42f4-b0ab-c148ed3241cd</td>\n",
              "      <td>NaN</td>\n",
              "      <td>NaN</td>\n",
              "      <td>NaN</td>\n",
              "      <td>NaN</td>\n",
              "      <td>0</td>\n",
              "      <td>1</td>\n",
              "      <td>No Lung Opacity / Not Normal</td>\n",
              "      <td>F</td>\n",
              "      <td>48.0</td>\n",
              "      <td>CHEST</td>\n",
              "      <td>PA</td>\n",
              "      <td>CR</td>\n",
              "    </tr>\n",
              "    <tr>\n",
              "      <th>2</th>\n",
              "      <td>00322d4d-1c29-4943-afc9-b6754be640eb</td>\n",
              "      <td>NaN</td>\n",
              "      <td>NaN</td>\n",
              "      <td>NaN</td>\n",
              "      <td>NaN</td>\n",
              "      <td>0</td>\n",
              "      <td>1</td>\n",
              "      <td>No Lung Opacity / Not Normal</td>\n",
              "      <td>M</td>\n",
              "      <td>19.0</td>\n",
              "      <td>CHEST</td>\n",
              "      <td>AP</td>\n",
              "      <td>CR</td>\n",
              "    </tr>\n",
              "    <tr>\n",
              "      <th>3</th>\n",
              "      <td>003d8fa0-6bf1-40ed-b54c-ac657f8495c5</td>\n",
              "      <td>NaN</td>\n",
              "      <td>NaN</td>\n",
              "      <td>NaN</td>\n",
              "      <td>NaN</td>\n",
              "      <td>0</td>\n",
              "      <td>1</td>\n",
              "      <td>Normal</td>\n",
              "      <td>M</td>\n",
              "      <td>28.0</td>\n",
              "      <td>CHEST</td>\n",
              "      <td>PA</td>\n",
              "      <td>CR</td>\n",
              "    </tr>\n",
              "    <tr>\n",
              "      <th>4</th>\n",
              "      <td>00436515-870c-4b36-a041-de91049b9ab4</td>\n",
              "      <td>264.0</td>\n",
              "      <td>152.0</td>\n",
              "      <td>213.0</td>\n",
              "      <td>379.0</td>\n",
              "      <td>1</td>\n",
              "      <td>2</td>\n",
              "      <td>Lung Opacity</td>\n",
              "      <td>F</td>\n",
              "      <td>32.0</td>\n",
              "      <td>CHEST</td>\n",
              "      <td>AP</td>\n",
              "      <td>CR</td>\n",
              "    </tr>\n",
              "  </tbody>\n",
              "</table>\n",
              "</div>"
            ],
            "text/plain": [
              "                              patientId      x  ...  ViewPosition  Modality\n",
              "0  0004cfab-14fd-4e49-80ba-63a80b6bddd6    NaN  ...            PA        CR\n",
              "1  00313ee0-9eaa-42f4-b0ab-c148ed3241cd    NaN  ...            PA        CR\n",
              "2  00322d4d-1c29-4943-afc9-b6754be640eb    NaN  ...            AP        CR\n",
              "3  003d8fa0-6bf1-40ed-b54c-ac657f8495c5    NaN  ...            PA        CR\n",
              "4  00436515-870c-4b36-a041-de91049b9ab4  264.0  ...            AP        CR\n",
              "\n",
              "[5 rows x 13 columns]"
            ]
          },
          "metadata": {
            "tags": []
          },
          "execution_count": 132
        }
      ]
    },
    {
      "cell_type": "code",
      "metadata": {
        "colab": {
          "base_uri": "https://localhost:8080/"
        },
        "id": "yKMYHWILp_29",
        "outputId": "33881bf1-d2fc-4dea-d885-56d70ce6fd0d"
      },
      "source": [
        "train_labels_boxes_class.shape"
      ],
      "execution_count": null,
      "outputs": [
        {
          "output_type": "execute_result",
          "data": {
            "text/plain": [
              "(30227, 13)"
            ]
          },
          "metadata": {
            "tags": []
          },
          "execution_count": 135
        }
      ]
    },
    {
      "cell_type": "code",
      "metadata": {
        "colab": {
          "base_uri": "https://localhost:8080/"
        },
        "id": "1Qx0f0oFTEhU",
        "outputId": "17ac7976-ca3c-433e-a217-062cf49d8189"
      },
      "source": [
        "print('Saving the DICOM features as an dataframe for further usage.......');\r\n",
        "train_labels_boxes_class.to_pickle('./output/dicom_train_features.pkl')"
      ],
      "execution_count": null,
      "outputs": [
        {
          "output_type": "stream",
          "text": [
            "Saving the DICOM features as an dataframe for further usage.......\n"
          ],
          "name": "stdout"
        }
      ]
    },
    {
      "cell_type": "code",
      "metadata": {
        "colab": {
          "base_uri": "https://localhost:8080/"
        },
        "id": "ITHJEAiDS7zp",
        "outputId": "1b987f79-6a9b-48ad-c593-f50832f25f63"
      },
      "source": [
        "#Load the dataset from the pickle file\r\n",
        "loaded_features_df = pd.read_pickle('./output/dicom_train_features.pkl')\r\n",
        "loaded_features_df.shape"
      ],
      "execution_count": null,
      "outputs": [
        {
          "output_type": "execute_result",
          "data": {
            "text/plain": [
              "(30227, 13)"
            ]
          },
          "metadata": {
            "tags": []
          },
          "execution_count": 136
        }
      ]
    },
    {
      "cell_type": "code",
      "metadata": {
        "id": "Cgm6-Pku7x34"
      },
      "source": [
        "#Merge the images path and train_class\r\n",
        "processed_df=loaded_features_df.copy(deep=True)\r\n",
        "processed_df= processed_df.merge(images_df, on = 'patientId', how = 'left')"
      ],
      "execution_count": null,
      "outputs": []
    },
    {
      "cell_type": "code",
      "metadata": {
        "colab": {
          "base_uri": "https://localhost:8080/",
          "height": 289
        },
        "id": "2s3OlnAqIO0S",
        "outputId": "9e6d84af-d11c-4a76-8079-742131dd4b1f"
      },
      "source": [
        "processed_df.head()"
      ],
      "execution_count": null,
      "outputs": [
        {
          "output_type": "execute_result",
          "data": {
            "text/html": [
              "<div>\n",
              "<style scoped>\n",
              "    .dataframe tbody tr th:only-of-type {\n",
              "        vertical-align: middle;\n",
              "    }\n",
              "\n",
              "    .dataframe tbody tr th {\n",
              "        vertical-align: top;\n",
              "    }\n",
              "\n",
              "    .dataframe thead th {\n",
              "        text-align: right;\n",
              "    }\n",
              "</style>\n",
              "<table border=\"1\" class=\"dataframe\">\n",
              "  <thead>\n",
              "    <tr style=\"text-align: right;\">\n",
              "      <th></th>\n",
              "      <th>patientId</th>\n",
              "      <th>x</th>\n",
              "      <th>y</th>\n",
              "      <th>width</th>\n",
              "      <th>height</th>\n",
              "      <th>Target</th>\n",
              "      <th>number_of_boxes</th>\n",
              "      <th>class</th>\n",
              "      <th>PatientSex</th>\n",
              "      <th>PatientAge</th>\n",
              "      <th>BodyPartExamined</th>\n",
              "      <th>ViewPosition</th>\n",
              "      <th>Modality</th>\n",
              "      <th>path</th>\n",
              "    </tr>\n",
              "  </thead>\n",
              "  <tbody>\n",
              "    <tr>\n",
              "      <th>0</th>\n",
              "      <td>0004cfab-14fd-4e49-80ba-63a80b6bddd6</td>\n",
              "      <td>NaN</td>\n",
              "      <td>NaN</td>\n",
              "      <td>NaN</td>\n",
              "      <td>NaN</td>\n",
              "      <td>0</td>\n",
              "      <td>1</td>\n",
              "      <td>No Lung Opacity / Not Normal</td>\n",
              "      <td>F</td>\n",
              "      <td>51.0</td>\n",
              "      <td>CHEST</td>\n",
              "      <td>PA</td>\n",
              "      <td>CR</td>\n",
              "      <td>/content/drive/My Drive/GL_AI_ML/Assignments/C...</td>\n",
              "    </tr>\n",
              "    <tr>\n",
              "      <th>1</th>\n",
              "      <td>00313ee0-9eaa-42f4-b0ab-c148ed3241cd</td>\n",
              "      <td>NaN</td>\n",
              "      <td>NaN</td>\n",
              "      <td>NaN</td>\n",
              "      <td>NaN</td>\n",
              "      <td>0</td>\n",
              "      <td>1</td>\n",
              "      <td>No Lung Opacity / Not Normal</td>\n",
              "      <td>F</td>\n",
              "      <td>48.0</td>\n",
              "      <td>CHEST</td>\n",
              "      <td>PA</td>\n",
              "      <td>CR</td>\n",
              "      <td>/content/drive/My Drive/GL_AI_ML/Assignments/C...</td>\n",
              "    </tr>\n",
              "    <tr>\n",
              "      <th>2</th>\n",
              "      <td>00322d4d-1c29-4943-afc9-b6754be640eb</td>\n",
              "      <td>NaN</td>\n",
              "      <td>NaN</td>\n",
              "      <td>NaN</td>\n",
              "      <td>NaN</td>\n",
              "      <td>0</td>\n",
              "      <td>1</td>\n",
              "      <td>No Lung Opacity / Not Normal</td>\n",
              "      <td>M</td>\n",
              "      <td>19.0</td>\n",
              "      <td>CHEST</td>\n",
              "      <td>AP</td>\n",
              "      <td>CR</td>\n",
              "      <td>/content/drive/My Drive/GL_AI_ML/Assignments/C...</td>\n",
              "    </tr>\n",
              "    <tr>\n",
              "      <th>3</th>\n",
              "      <td>003d8fa0-6bf1-40ed-b54c-ac657f8495c5</td>\n",
              "      <td>NaN</td>\n",
              "      <td>NaN</td>\n",
              "      <td>NaN</td>\n",
              "      <td>NaN</td>\n",
              "      <td>0</td>\n",
              "      <td>1</td>\n",
              "      <td>Normal</td>\n",
              "      <td>M</td>\n",
              "      <td>28.0</td>\n",
              "      <td>CHEST</td>\n",
              "      <td>PA</td>\n",
              "      <td>CR</td>\n",
              "      <td>/content/drive/My Drive/GL_AI_ML/Assignments/C...</td>\n",
              "    </tr>\n",
              "    <tr>\n",
              "      <th>4</th>\n",
              "      <td>00436515-870c-4b36-a041-de91049b9ab4</td>\n",
              "      <td>264.0</td>\n",
              "      <td>152.0</td>\n",
              "      <td>213.0</td>\n",
              "      <td>379.0</td>\n",
              "      <td>1</td>\n",
              "      <td>2</td>\n",
              "      <td>Lung Opacity</td>\n",
              "      <td>F</td>\n",
              "      <td>32.0</td>\n",
              "      <td>CHEST</td>\n",
              "      <td>AP</td>\n",
              "      <td>CR</td>\n",
              "      <td>/content/drive/My Drive/GL_AI_ML/Assignments/C...</td>\n",
              "    </tr>\n",
              "  </tbody>\n",
              "</table>\n",
              "</div>"
            ],
            "text/plain": [
              "                              patientId  ...                                               path\n",
              "0  0004cfab-14fd-4e49-80ba-63a80b6bddd6  ...  /content/drive/My Drive/GL_AI_ML/Assignments/C...\n",
              "1  00313ee0-9eaa-42f4-b0ab-c148ed3241cd  ...  /content/drive/My Drive/GL_AI_ML/Assignments/C...\n",
              "2  00322d4d-1c29-4943-afc9-b6754be640eb  ...  /content/drive/My Drive/GL_AI_ML/Assignments/C...\n",
              "3  003d8fa0-6bf1-40ed-b54c-ac657f8495c5  ...  /content/drive/My Drive/GL_AI_ML/Assignments/C...\n",
              "4  00436515-870c-4b36-a041-de91049b9ab4  ...  /content/drive/My Drive/GL_AI_ML/Assignments/C...\n",
              "\n",
              "[5 rows x 14 columns]"
            ]
          },
          "metadata": {
            "tags": []
          },
          "execution_count": 138
        }
      ]
    },
    {
      "cell_type": "code",
      "metadata": {
        "colab": {
          "base_uri": "https://localhost:8080/"
        },
        "id": "eEeh_N8sM0Ub",
        "outputId": "3de61ea0-a070-442e-eb52-4d96cd4ae0a2"
      },
      "source": [
        "processed_df.shape"
      ],
      "execution_count": null,
      "outputs": [
        {
          "output_type": "execute_result",
          "data": {
            "text/plain": [
              "(30227, 14)"
            ]
          },
          "metadata": {
            "tags": []
          },
          "execution_count": 139
        }
      ]
    },
    {
      "cell_type": "code",
      "metadata": {
        "colab": {
          "base_uri": "https://localhost:8080/",
          "height": 297
        },
        "id": "RkFGPPElqnbk",
        "outputId": "71f74cbc-ed34-4fb0-bb99-b52a2b9851ed"
      },
      "source": [
        "processed_df.describe()"
      ],
      "execution_count": null,
      "outputs": [
        {
          "output_type": "execute_result",
          "data": {
            "text/html": [
              "<div>\n",
              "<style scoped>\n",
              "    .dataframe tbody tr th:only-of-type {\n",
              "        vertical-align: middle;\n",
              "    }\n",
              "\n",
              "    .dataframe tbody tr th {\n",
              "        vertical-align: top;\n",
              "    }\n",
              "\n",
              "    .dataframe thead th {\n",
              "        text-align: right;\n",
              "    }\n",
              "</style>\n",
              "<table border=\"1\" class=\"dataframe\">\n",
              "  <thead>\n",
              "    <tr style=\"text-align: right;\">\n",
              "      <th></th>\n",
              "      <th>x</th>\n",
              "      <th>y</th>\n",
              "      <th>width</th>\n",
              "      <th>height</th>\n",
              "      <th>Target</th>\n",
              "      <th>number_of_boxes</th>\n",
              "      <th>PatientAge</th>\n",
              "    </tr>\n",
              "  </thead>\n",
              "  <tbody>\n",
              "    <tr>\n",
              "      <th>count</th>\n",
              "      <td>9555.000000</td>\n",
              "      <td>9555.000000</td>\n",
              "      <td>9555.000000</td>\n",
              "      <td>9555.000000</td>\n",
              "      <td>30227.000000</td>\n",
              "      <td>30227.000000</td>\n",
              "      <td>30227.000000</td>\n",
              "    </tr>\n",
              "    <tr>\n",
              "      <th>mean</th>\n",
              "      <td>394.047724</td>\n",
              "      <td>366.839560</td>\n",
              "      <td>218.471376</td>\n",
              "      <td>329.269702</td>\n",
              "      <td>0.316108</td>\n",
              "      <td>1.244880</td>\n",
              "      <td>46.797764</td>\n",
              "    </tr>\n",
              "    <tr>\n",
              "      <th>std</th>\n",
              "      <td>204.574172</td>\n",
              "      <td>148.940488</td>\n",
              "      <td>59.289475</td>\n",
              "      <td>157.750755</td>\n",
              "      <td>0.464963</td>\n",
              "      <td>0.467829</td>\n",
              "      <td>16.892940</td>\n",
              "    </tr>\n",
              "    <tr>\n",
              "      <th>min</th>\n",
              "      <td>2.000000</td>\n",
              "      <td>2.000000</td>\n",
              "      <td>40.000000</td>\n",
              "      <td>45.000000</td>\n",
              "      <td>0.000000</td>\n",
              "      <td>1.000000</td>\n",
              "      <td>1.000000</td>\n",
              "    </tr>\n",
              "    <tr>\n",
              "      <th>25%</th>\n",
              "      <td>207.000000</td>\n",
              "      <td>249.000000</td>\n",
              "      <td>177.000000</td>\n",
              "      <td>203.000000</td>\n",
              "      <td>0.000000</td>\n",
              "      <td>1.000000</td>\n",
              "      <td>34.000000</td>\n",
              "    </tr>\n",
              "    <tr>\n",
              "      <th>50%</th>\n",
              "      <td>324.000000</td>\n",
              "      <td>365.000000</td>\n",
              "      <td>217.000000</td>\n",
              "      <td>298.000000</td>\n",
              "      <td>0.000000</td>\n",
              "      <td>1.000000</td>\n",
              "      <td>49.000000</td>\n",
              "    </tr>\n",
              "    <tr>\n",
              "      <th>75%</th>\n",
              "      <td>594.000000</td>\n",
              "      <td>478.500000</td>\n",
              "      <td>259.000000</td>\n",
              "      <td>438.000000</td>\n",
              "      <td>1.000000</td>\n",
              "      <td>1.000000</td>\n",
              "      <td>59.000000</td>\n",
              "    </tr>\n",
              "    <tr>\n",
              "      <th>max</th>\n",
              "      <td>835.000000</td>\n",
              "      <td>881.000000</td>\n",
              "      <td>528.000000</td>\n",
              "      <td>942.000000</td>\n",
              "      <td>1.000000</td>\n",
              "      <td>4.000000</td>\n",
              "      <td>155.000000</td>\n",
              "    </tr>\n",
              "  </tbody>\n",
              "</table>\n",
              "</div>"
            ],
            "text/plain": [
              "                 x            y  ...  number_of_boxes    PatientAge\n",
              "count  9555.000000  9555.000000  ...     30227.000000  30227.000000\n",
              "mean    394.047724   366.839560  ...         1.244880     46.797764\n",
              "std     204.574172   148.940488  ...         0.467829     16.892940\n",
              "min       2.000000     2.000000  ...         1.000000      1.000000\n",
              "25%     207.000000   249.000000  ...         1.000000     34.000000\n",
              "50%     324.000000   365.000000  ...         1.000000     49.000000\n",
              "75%     594.000000   478.500000  ...         1.000000     59.000000\n",
              "max     835.000000   881.000000  ...         4.000000    155.000000\n",
              "\n",
              "[8 rows x 7 columns]"
            ]
          },
          "metadata": {
            "tags": []
          },
          "execution_count": 140
        }
      ]
    },
    {
      "cell_type": "code",
      "metadata": {
        "colab": {
          "base_uri": "https://localhost:8080/",
          "height": 336
        },
        "id": "ULIPYn6xsmwZ",
        "outputId": "9cf03efc-6a6a-460c-ff38-103e36430be4"
      },
      "source": [
        "fig = plt.figure(figsize = (10, 5))\r\n",
        "fig_box_plot = sns.boxplot(data = processed_df['PatientAge'], orient = 'h').set_title('PatientAge Outliers')"
      ],
      "execution_count": null,
      "outputs": [
        {
          "output_type": "display_data",
          "data": {
            "image/png": "[encoded data removed]",
            "text/plain": [
              "<Figure size 720x360 with 1 Axes>"
            ]
          },
          "metadata": {
            "tags": [],
            "needs_background": "light"
          }
        }
      ]
    },
    {
      "cell_type": "code",
      "metadata": {
        "id": "2vQ7D8c_twgC"
      },
      "source": [
        "#Age\r\n",
        "p_flag_0 =processed_df[processed_df[\"Target\"] == 0]['PatientAge']\r\n",
        "p_flag_1 = processed_df[processed_df[\"Target\"] == 1]['PatientAge']"
      ],
      "execution_count": null,
      "outputs": []
    },
    {
      "cell_type": "code",
      "metadata": {
        "colab": {
          "base_uri": "https://localhost:8080/",
          "height": 302
        },
        "id": "DC4PzVZVt_ix",
        "outputId": "dcb8dc90-b340-47d8-ae89-e6ccc08f2f78"
      },
      "source": [
        "plt.figure(figsize=(15, 15))\r\n",
        "#Plotting Age group\r\n",
        "plt.subplot(3,2,1)\r\n",
        "sns.distplot(p_flag_0, color = 'c',label='No Evidence for Pneumonia',kde=False)\r\n",
        "plt.legend()\r\n",
        "plt.subplot(3,2,2)\r\n",
        "sns.distplot(p_flag_1, color = 'g',label='Presence of Pneumonia''s evidence',kde=False)\r\n",
        "plt.legend()\r\n",
        "plt.show()"
      ],
      "execution_count": null,
      "outputs": [
        {
          "output_type": "display_data",
          "data": {
            "image/png": "[encoded data removed]",
            "text/plain": [
              "<Figure size 1080x1080 with 2 Axes>"
            ]
          },
          "metadata": {
            "tags": [],
            "needs_background": "light"
          }
        }
      ]
    }
  ]
}